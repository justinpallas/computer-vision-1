{
 "cells": [
  {
   "cell_type": "markdown",
   "id": "a30b91ba",
   "metadata": {
    "slideshow": {
     "slide_type": "slide"
    }
   },
   "source": [
    "# Basic Image Processing in Julia"
   ]
  },
  {
   "cell_type": "markdown",
   "id": "53997b8f",
   "metadata": {
    "slideshow": {
     "slide_type": "slide"
    }
   },
   "source": [
    "## Images.jl"
   ]
  },
  {
   "cell_type": "markdown",
   "id": "1b558a41",
   "metadata": {},
   "source": [
    "-   `Images.jl`: meta-package for image processing\n",
    "-   Maintained by `JuliaImages` github organization\n",
    "-   Common image representation, many dedicated packages for individual\n",
    "    tasks"
   ]
  },
  {
   "cell_type": "code",
   "execution_count": 1,
   "id": "d29b0cf7",
   "metadata": {},
   "outputs": [],
   "source": [
    "using Images"
   ]
  },
  {
   "cell_type": "markdown",
   "id": "d21deb55",
   "metadata": {
    "slideshow": {
     "slide_type": "slide"
    }
   },
   "source": [
    "## The basics: load, show, save"
   ]
  },
  {
   "cell_type": "markdown",
   "id": "180c9400",
   "metadata": {},
   "source": [
    "-   Interaction with image files via `FileIO.jl` package\n",
    "    -   `load()` function for loading images\n",
    "    -   `save()` function for saving images\n",
    "-   Parsing of images requires `ImageMagick.jl` to be installed"
   ]
  },
  {
   "cell_type": "code",
   "execution_count": 3,
   "id": "b2ee13de",
   "metadata": {},
   "outputs": [
    {
     "name": "stderr",
     "output_type": "stream",
     "text": [
      "\u001b[32m\u001b[1m    Updating\u001b[22m\u001b[39m registry at `C:\\Users\\justi\\.julia\\registries\\General.toml`\n",
      "\u001b[32m\u001b[1m   Resolving\u001b[22m\u001b[39m package versions...\n",
      "\u001b[32m\u001b[1m    Updating\u001b[22m\u001b[39m `Z:\\Studium\\Master_SE\\Semester_01\\Computer_Vision_1\\Assignment_01\\Project.toml`\n",
      " \u001b[90m [5789e2e9] \u001b[39m\u001b[92m+ FileIO v1.16.1\u001b[39m\n",
      "\u001b[32m\u001b[1m    Updating\u001b[22m\u001b[39m `Z:\\Studium\\Master_SE\\Semester_01\\Computer_Vision_1\\Assignment_01\\Manifest.toml`\n",
      " \u001b[90m [5789e2e9] \u001b[39m\u001b[92m+ FileIO v1.16.1\u001b[39m\n"
     ]
    }
   ],
   "source": [
    "import Pkg; Pkg.add(\"FileIO\")\n",
    "using FileIO"
   ]
  },
  {
   "cell_type": "markdown",
   "id": "4c7d0d4a",
   "metadata": {
    "slideshow": {
     "slide_type": "subslide"
    }
   },
   "source": [
    "### Loading images"
   ]
  },
  {
   "cell_type": "code",
   "execution_count": 4,
   "id": "e6c4c6a7",
   "metadata": {},
   "outputs": [
    {
     "ename": "LoadError",
     "evalue": "ArgumentError: No file exists at given path: images/iceberg.jpg",
     "output_type": "error",
     "traceback": [
      "ArgumentError: No file exists at given path: images/iceberg.jpg",
      "",
      "Stacktrace:",
      " [1] checkpath_load",
      "   @ C:\\Users\\justi\\.julia\\packages\\FileIO\\BE7iZ\\src\\loadsave.jl:167 [inlined]",
      " [2] load(::String; options::Base.Pairs{Symbol, Union{}, Tuple{}, NamedTuple{(), Tuple{}}})",
      "   @ FileIO C:\\Users\\justi\\.julia\\packages\\FileIO\\BE7iZ\\src\\loadsave.jl:110",
      " [3] load(::String)",
      "   @ FileIO C:\\Users\\justi\\.julia\\packages\\FileIO\\BE7iZ\\src\\loadsave.jl:109",
      " [4] top-level scope",
      "   @ In[4]:1"
     ]
    }
   ],
   "source": [
    "img1 = load(\"images/iceberg.jpg\")\n",
    "# Image source: https://commons.wikimedia.org/wiki/File:Iceberg_in_the_Arctic_with_its_underside_exposed.jpg\n",
    "# AWeith via Wikimedia (CC-SA license)"
   ]
  },
  {
   "cell_type": "markdown",
   "id": "029fa1b7",
   "metadata": {},
   "source": [
    "-   `TestImages.jl` contains many example images commonly used in the CV\n",
    "    community"
   ]
  },
  {
   "cell_type": "code",
   "execution_count": null,
   "id": "c5d8ff63",
   "metadata": {},
   "outputs": [],
   "source": [
    "using TestImages\n",
    "img2 = testimage(\"lighthouse\")"
   ]
  },
  {
   "cell_type": "markdown",
   "id": "6065bb34",
   "metadata": {
    "slideshow": {
     "slide_type": "subslide"
    }
   },
   "source": [
    "### Writing images to file"
   ]
  },
  {
   "cell_type": "code",
   "execution_count": null,
   "id": "6f0845e4",
   "metadata": {},
   "outputs": [],
   "source": [
    "save(\"images/lighthouse.jpg\", img2)"
   ]
  },
  {
   "cell_type": "code",
   "execution_count": null,
   "id": "284c3c74",
   "metadata": {},
   "outputs": [],
   "source": [
    "load(\"images/lighthouse.jpg\")"
   ]
  },
  {
   "cell_type": "markdown",
   "id": "1f727eff",
   "metadata": {
    "slideshow": {
     "slide_type": "subslide"
    }
   },
   "source": [
    "### Displaying images"
   ]
  },
  {
   "cell_type": "markdown",
   "id": "37715e56",
   "metadata": {},
   "source": [
    "-   Several packages support image display:\n",
    "    -   `ImageShow.jl` integrates with Jupyter / Juno\n",
    "    -   `ImageView.jl` comes with a display GUI\n",
    "    -   `ImageInTerminal.jl` can display images in the REPL\n",
    "    -   `Plots.jl` and `Makie.jl` know how to display images\n",
    "-   In interactive environments, images “just work”, in scripts use\n",
    "    `ImageView` (interactive) or write to file"
   ]
  },
  {
   "cell_type": "markdown",
   "id": "797a57c6",
   "metadata": {
    "slideshow": {
     "slide_type": "slide"
    }
   },
   "source": [
    "## Image representation: arrays of pixels"
   ]
  },
  {
   "cell_type": "markdown",
   "id": "39c9e33a",
   "metadata": {},
   "source": [
    "-   Each image is represented as an `Array` of pixels\n",
    "-   Pixels can have different types, which correspond to the\n",
    "    interpretation of the image channels\n",
    "    -   e.g., `RGB` has 3 values (channels), corresponding to red, green\n",
    "        and blue\n",
    "    -   `Gray` has a single value, the pixel intensity\n",
    "    -   `HSV`, `Lab`, `XYZ`, etc."
   ]
  },
  {
   "cell_type": "code",
   "execution_count": null,
   "id": "34ec42c5",
   "metadata": {},
   "outputs": [],
   "source": [
    "typeof(img1)"
   ]
  },
  {
   "cell_type": "code",
   "execution_count": null,
   "id": "65beebac",
   "metadata": {},
   "outputs": [],
   "source": [
    "typeof(float.(img1))"
   ]
  },
  {
   "cell_type": "code",
   "execution_count": null,
   "id": "fa94dc96",
   "metadata": {},
   "outputs": [],
   "source": [
    "rand(RGB, 2, 2)"
   ]
  },
  {
   "cell_type": "markdown",
   "id": "b7be5593",
   "metadata": {},
   "source": [
    "-   Use `colorview()` and `channelview()` to convert from/to raw\n",
    "    `Array`s"
   ]
  },
  {
   "cell_type": "code",
   "execution_count": null,
   "id": "6e04a7d4",
   "metadata": {},
   "outputs": [],
   "source": [
    "typeof(channelview(float.(img1)))"
   ]
  },
  {
   "cell_type": "markdown",
   "id": "55ba66e6",
   "metadata": {
    "slideshow": {
     "slide_type": "subslide"
    }
   },
   "source": [
    "### Changing pixel type"
   ]
  },
  {
   "cell_type": "markdown",
   "id": "ce7ca097",
   "metadata": {},
   "source": [
    "-   Conversions between color spaces are achieved by changing pixel type"
   ]
  },
  {
   "cell_type": "code",
   "execution_count": null,
   "id": "26d1bcaa",
   "metadata": {},
   "outputs": [],
   "source": [
    "Gray.(img1)"
   ]
  },
  {
   "cell_type": "code",
   "execution_count": null,
   "id": "488cd800",
   "metadata": {},
   "outputs": [],
   "source": [
    "Gray.(channelview(HSV.(img1))[3,:,:])"
   ]
  },
  {
   "cell_type": "markdown",
   "id": "a2f7e04f",
   "metadata": {
    "slideshow": {
     "slide_type": "slide"
    }
   },
   "source": [
    "## Transforming images"
   ]
  },
  {
   "cell_type": "markdown",
   "id": "b9b5699e",
   "metadata": {},
   "source": [
    "-   Basic image transforms are implemented in `ImageTransformations.jl`\n",
    "    -   e.g., `imresize()` for changing resolution\n",
    "    -   `imrotate()` for rotation\n",
    "    -   `warp()` for general image warping"
   ]
  },
  {
   "cell_type": "code",
   "execution_count": null,
   "id": "5dc9fb9b",
   "metadata": {},
   "outputs": [],
   "source": [
    "small = imresize(img1, ratio=1/16)"
   ]
  },
  {
   "cell_type": "code",
   "execution_count": null,
   "id": "5554a1c9",
   "metadata": {},
   "outputs": [],
   "source": [
    "imrotate(small, π/4)"
   ]
  },
  {
   "cell_type": "markdown",
   "id": "6abc7126",
   "metadata": {
    "slideshow": {
     "slide_type": "slide"
    }
   },
   "source": [
    "## Basic image processing: filters"
   ]
  },
  {
   "cell_type": "markdown",
   "id": "c9de56a5",
   "metadata": {},
   "source": [
    "-   Image filtering is implemented in `ImageFiltering.jl`\n",
    "    -   core function: `imfilter()`\n",
    "    -   arbitrary (e.g., nonlinear) operations can be implemented with\n",
    "        `mapwindow`\n",
    "-   Common kernels implemented in `ImageFiltering.Kernel` and\n",
    "    `ImageFiltering.KernelFactors`"
   ]
  },
  {
   "cell_type": "code",
   "execution_count": null,
   "id": "e88ed4fc",
   "metadata": {},
   "outputs": [],
   "source": [
    "imfilter(img2, Kernel.gaussian(15.0))"
   ]
  },
  {
   "cell_type": "markdown",
   "id": "87257d86",
   "metadata": {
    "slideshow": {
     "slide_type": "subslide"
    }
   },
   "source": [
    "### Filter kernels"
   ]
  },
  {
   "cell_type": "markdown",
   "id": "2b8416f1",
   "metadata": {},
   "source": [
    "-   To create your own filters, just use `Array`s\n",
    "-   Central array element should have index `(0, 0)`\n",
    "    -   use `OffsetArray`\n",
    "    -   simple generation via `centered()`\n",
    "-   Technically, `imfilter()` uses correlation, not convolution, so\n",
    "    `reflect()` your kernel"
   ]
  },
  {
   "cell_type": "code",
   "execution_count": null,
   "id": "37fff766",
   "metadata": {},
   "outputs": [],
   "source": [
    "filt = [1 0.5 0; 0.5 0 -0.5; 0 -0.5 -1];"
   ]
  },
  {
   "cell_type": "code",
   "execution_count": null,
   "id": "424109bb",
   "metadata": {},
   "outputs": [],
   "source": [
    "centered(filt);"
   ]
  },
  {
   "cell_type": "code",
   "execution_count": null,
   "id": "2ea8eae0",
   "metadata": {},
   "outputs": [],
   "source": [
    "reflect(centered(filt));"
   ]
  },
  {
   "cell_type": "code",
   "execution_count": null,
   "id": "aea3fdce",
   "metadata": {},
   "outputs": [],
   "source": [
    "imfilter(Gray.(img2), reflect(centered(filt)))"
   ]
  },
  {
   "cell_type": "markdown",
   "id": "a55e3678",
   "metadata": {
    "slideshow": {
     "slide_type": "subslide"
    }
   },
   "source": [
    "## Further Reading"
   ]
  },
  {
   "cell_type": "markdown",
   "id": "849d3b07",
   "metadata": {},
   "source": [
    "-   The JuliaImages documentation:\n",
    "    [juliaimages.org](https://juliaimages.org/latest/)\n",
    "-   JuliaImages github organization:\n",
    "    [github.com/JuliaImages](https://github.com/JuliaImages)\n",
    "-   Comparison to Python and Matlab:\n",
    "    [juliaimages.org/latest/api\\_comparison](https://juliaimages.org/latest/api_comparison/)\n",
    "-   Julia frontend to OpenCV library:\n",
    "    [juliaopencv.github.io/latest/](https://juliaopencv.github.io/latest/)"
   ]
  }
 ],
 "metadata": {
  "@webio": {
   "lastCommId": null,
   "lastKernelId": null
  },
  "kernelspec": {
   "display_name": "Julia 1.8.5",
   "language": "julia",
   "name": "julia-1.8"
  },
  "language_info": {
   "file_extension": ".jl",
   "mimetype": "application/julia",
   "name": "julia",
   "version": "1.8.5"
  },
  "rise": {
   "auto_select": "code",
   "scroll": "true",
   "theme": "uulm"
  }
 },
 "nbformat": 4,
 "nbformat_minor": 5
}
