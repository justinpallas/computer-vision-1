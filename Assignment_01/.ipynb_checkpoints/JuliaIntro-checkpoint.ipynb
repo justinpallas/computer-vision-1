{
 "cells": [
  {
   "cell_type": "markdown",
   "id": "3ca8b30b-996d-4db4-90b9-85109e06a64a",
   "metadata": {
    "slideshow": {
     "slide_type": "slide"
    }
   },
   "source": [
    "# A Quick Tour of Julia"
   ]
  },
  {
   "cell_type": "markdown",
   "id": "374da4f6-c8b3-46d9-a5d7-4405a0c058ce",
   "metadata": {
    "slideshow": {
     "slide_type": "subslide"
    }
   },
   "source": [
    "## What is Julia"
   ]
  },
  {
   "cell_type": "markdown",
   "id": "f14b4e79-3a8d-4b71-a98f-d12449455895",
   "metadata": {},
   "source": [
    "-   **Open source** programming language\n",
    "-   **Easy** to use:\n",
    "    -   dynamic typing\n",
    "    -   excellent REPL\n",
    "-   Designed for **performance**:\n",
    "    -   detailed type system, dynamic dispatch\n",
    "    -   function code is optimized and compiled using LLVM\n",
    "-   Excellent for **scientific programming**:\n",
    "    -   good number crunching performance\n",
    "    -   comprehensive libraries\n",
    "    -   avoids the dual language problem"
   ]
  },
  {
   "cell_type": "markdown",
   "id": "7bf8bbcb-f501-450e-8c3e-dd7a958529df",
   "metadata": {
    "slideshow": {
     "slide_type": "slide"
    }
   },
   "source": [
    "# Working with Julia"
   ]
  },
  {
   "cell_type": "markdown",
   "id": "93f7183b-b47b-4b38-98b4-3fac3e348f80",
   "metadata": {
    "slideshow": {
     "slide_type": "subslide"
    }
   },
   "source": [
    "## Installation and setup"
   ]
  },
  {
   "cell_type": "markdown",
   "id": "9e7147e7-2975-43a0-bfc0-0487c5687b56",
   "metadata": {},
   "source": [
    "-   Get binaries at [julialang.org](https://julialang.org/downloads/) or\n",
    "    use your OS’s package manager\n",
    "-   Use current stable version: `v1.8.5`\n",
    "-   Recommended IDE: vscode with [julia\n",
    "    extension](https://www.julia-vscode.org/)\n",
    "-   Install package [`IJulia`](https://github.com/JuliaLang/IJulia.jl)\n",
    "    for [Jupyter](https://jupyter.org/) integration"
   ]
  },
  {
   "cell_type": "markdown",
   "id": "a54fd5ef-c75c-446d-9c27-ac600a242be5",
   "metadata": {
    "slideshow": {
     "slide_type": "subslide"
    }
   },
   "source": [
    "## The REPL"
   ]
  },
  {
   "cell_type": "markdown",
   "id": "93f55e91-6aad-47e2-aa40-81db22acfacb",
   "metadata": {},
   "source": [
    "-   **r**ead - **e**valuate - **p**rint loop\n",
    "-   Julia’s command line interface\n",
    "-   built-in:\n",
    "    -   help function (type `?`)\n",
    "    -   package manager (type `]`)\n",
    "    -   shell integration (type `;`)\n",
    "-   intelligent multi-line editing\n",
    "-   can enter unicode signs (e.g., operators) with LaTeX codes"
   ]
  },
  {
   "cell_type": "markdown",
   "id": "2ef3db60-acd4-41e7-a788-948184a19ebc",
   "metadata": {
    "slideshow": {
     "slide_type": "subslide"
    }
   },
   "source": [
    "### Task 1: Get Help"
   ]
  },
  {
   "cell_type": "markdown",
   "id": "740971b5-6e16-4931-833f-12c2dc0dc83b",
   "metadata": {},
   "source": [
    "Use the built-in functions of the REPL to get the following information:\n",
    "\n",
    "-   Which directory are you currently in?\n",
    "-   What does the operator `∈` do?\n",
    "-   What is the difference between `=`, `==`, `===`, and `≡`"
   ]
  },
  {
   "cell_type": "markdown",
   "id": "ce58ab0a-8b80-41a3-968f-fb15c25b0606",
   "metadata": {
    "slideshow": {
     "slide_type": "subslide"
    }
   },
   "source": [
    "## Installing packages"
   ]
  },
  {
   "cell_type": "markdown",
   "id": "17fc55a3-98ad-474c-9d03-c5d0c657edb0",
   "metadata": {},
   "source": [
    "-   Access Julia’s built-in package manager from REPL: `]`\n",
    "\n",
    "-   Add package [Images.jl](https://juliaimages.org/latest/):\n",
    "    `] add Images`\n",
    "\n",
    "-   Access an installed package:\n",
    "\n",
    "    ``` julia\n",
    "    using Images\n",
    "    using FFTW: fft\n",
    "    ```\n",
    "\n",
    "-   See installed packages: `] st`"
   ]
  },
  {
   "cell_type": "markdown",
   "id": "4d88a5d7-a6b5-4b48-ad0a-ba0b7a117db7",
   "metadata": {
    "slideshow": {
     "slide_type": "subslide"
    }
   },
   "source": [
    "-   Outside REPL, package manager is available as module `Pkg`"
   ]
  },
  {
   "cell_type": "code",
   "execution_count": 1,
   "id": "0a7af17a-6c69-4589-b635-36ffde45ada2",
   "metadata": {},
   "outputs": [
    {
     "name": "stderr",
     "output_type": "stream",
     "text": [
      "\u001b[32m\u001b[1m  Activating\u001b[22m\u001b[39m new project at `Z:\\Studium\\Master_SE\\Semester_01\\Computer_Vision_1\\Assignment_01`\n",
      "\u001b[32m\u001b[1m    Updating\u001b[22m\u001b[39m registry at `C:\\Users\\justi\\.julia\\registries\\General.toml`\n",
      "\u001b[32m\u001b[1m   Resolving\u001b[22m\u001b[39m package versions...\n",
      "\u001b[32m\u001b[1m    Updating\u001b[22m\u001b[39m `Z:\\Studium\\Master_SE\\Semester_01\\Computer_Vision_1\\Assignment_01\\Project.toml`\n",
      " \u001b[90m [91a5bcdd] \u001b[39m\u001b[92m+ Plots v1.38.11\u001b[39m\n",
      "\u001b[32m\u001b[1m    Updating\u001b[22m\u001b[39m `Z:\\Studium\\Master_SE\\Semester_01\\Computer_Vision_1\\Assignment_01\\Manifest.toml`\n",
      " \u001b[90m [d1d4a3ce] \u001b[39m\u001b[92m+ BitFlags v0.1.7\u001b[39m\n",
      " \u001b[90m [d360d2e6] \u001b[39m\u001b[92m+ ChainRulesCore v1.16.0\u001b[39m\n",
      " \u001b[90m [9e997f8a] \u001b[39m\u001b[92m+ ChangesOfVariables v0.1.7\u001b[39m\n",
      " \u001b[90m [944b1d66] \u001b[39m\u001b[92m+ CodecZlib v0.7.1\u001b[39m\n",
      " \u001b[90m [35d6a980] \u001b[39m\u001b[92m+ ColorSchemes v3.21.0\u001b[39m\n",
      " \u001b[90m [3da002f7] \u001b[39m\u001b[92m+ ColorTypes v0.11.4\u001b[39m\n",
      " \u001b[90m [c3611d14] \u001b[39m\u001b[92m+ ColorVectorSpace v0.9.10\u001b[39m\n",
      " \u001b[90m [5ae59095] \u001b[39m\u001b[92m+ Colors v0.12.10\u001b[39m\n",
      " \u001b[90m [34da2185] \u001b[39m\u001b[92m+ Compat v4.6.1\u001b[39m\n",
      " \u001b[90m [f0e56b4a] \u001b[39m\u001b[92m+ ConcurrentUtilities v2.1.1\u001b[39m\n",
      " \u001b[90m [d38c429a] \u001b[39m\u001b[92m+ Contour v0.6.2\u001b[39m\n",
      " \u001b[90m [9a962f9c] \u001b[39m\u001b[92m+ DataAPI v1.14.0\u001b[39m\n",
      " \u001b[90m [864edb3b] \u001b[39m\u001b[92m+ DataStructures v0.18.13\u001b[39m\n",
      " \u001b[90m [ffbed154] \u001b[39m\u001b[92m+ DocStringExtensions v0.9.3\u001b[39m\n",
      " \u001b[90m [c87230d0] \u001b[39m\u001b[92m+ FFMPEG v0.4.1\u001b[39m\n",
      " \u001b[90m [53c48c17] \u001b[39m\u001b[92m+ FixedPointNumbers v0.8.4\u001b[39m\n",
      " \u001b[90m [59287772] \u001b[39m\u001b[92m+ Formatting v0.4.2\u001b[39m\n",
      " \u001b[90m [28b8d3ca] \u001b[39m\u001b[92m+ GR v0.72.4\u001b[39m\n",
      " \u001b[90m [42e2da0e] \u001b[39m\u001b[92m+ Grisu v1.0.2\u001b[39m\n",
      " \u001b[90m [cd3eb016] \u001b[39m\u001b[92m+ HTTP v1.8.0\u001b[39m\n",
      " \u001b[90m [3587e190] \u001b[39m\u001b[92m+ InverseFunctions v0.1.9\u001b[39m\n",
      " \u001b[90m [92d709cd] \u001b[39m\u001b[92m+ IrrationalConstants v0.2.2\u001b[39m\n",
      " \u001b[90m [1019f520] \u001b[39m\u001b[92m+ JLFzf v0.1.5\u001b[39m\n",
      " \u001b[90m [692b3bcd] \u001b[39m\u001b[92m+ JLLWrappers v1.4.1\u001b[39m\n",
      " \u001b[90m [682c06a0] \u001b[39m\u001b[92m+ JSON v0.21.4\u001b[39m\n",
      " \u001b[90m [b964fa9f] \u001b[39m\u001b[92m+ LaTeXStrings v1.3.0\u001b[39m\n",
      " \u001b[90m [23fbe1c1] \u001b[39m\u001b[92m+ Latexify v0.16.0\u001b[39m\n",
      " \u001b[90m [2ab3a3ac] \u001b[39m\u001b[92m+ LogExpFunctions v0.3.23\u001b[39m\n",
      " \u001b[90m [e6f89c97] \u001b[39m\u001b[92m+ LoggingExtras v1.0.0\u001b[39m\n",
      " \u001b[90m [1914dd2f] \u001b[39m\u001b[92m+ MacroTools v0.5.10\u001b[39m\n",
      " \u001b[90m [739be429] \u001b[39m\u001b[92m+ MbedTLS v1.1.7\u001b[39m\n",
      " \u001b[90m [442fdcdd] \u001b[39m\u001b[92m+ Measures v0.3.2\u001b[39m\n",
      " \u001b[90m [e1d29d7a] \u001b[39m\u001b[92m+ Missings v1.1.0\u001b[39m\n",
      " \u001b[90m [77ba4419] \u001b[39m\u001b[92m+ NaNMath v1.0.2\u001b[39m\n",
      " \u001b[90m [4d8831e6] \u001b[39m\u001b[92m+ OpenSSL v1.4.1\u001b[39m\n",
      " \u001b[90m [bac558e1] \u001b[39m\u001b[92m+ OrderedCollections v1.6.0\u001b[39m\n",
      " \u001b[90m [69de0a69] \u001b[39m\u001b[92m+ Parsers v2.5.8\u001b[39m\n",
      " \u001b[90m [b98c9c47] \u001b[39m\u001b[92m+ Pipe v1.3.0\u001b[39m\n",
      " \u001b[90m [ccf2f8ad] \u001b[39m\u001b[92m+ PlotThemes v3.1.0\u001b[39m\n",
      " \u001b[90m [995b91a9] \u001b[39m\u001b[92m+ PlotUtils v1.3.5\u001b[39m\n",
      " \u001b[90m [91a5bcdd] \u001b[39m\u001b[92m+ Plots v1.38.11\u001b[39m\n",
      " \u001b[90m [aea7be01] \u001b[39m\u001b[92m+ PrecompileTools v1.1.1\u001b[39m\n",
      " \u001b[90m [21216c6a] \u001b[39m\u001b[92m+ Preferences v1.4.0\u001b[39m\n",
      " \u001b[90m [3cdcf5f2] \u001b[39m\u001b[92m+ RecipesBase v1.3.4\u001b[39m\n",
      " \u001b[90m [01d81517] \u001b[39m\u001b[92m+ RecipesPipeline v0.6.12\u001b[39m\n",
      " \u001b[90m [189a3867] \u001b[39m\u001b[92m+ Reexport v1.2.2\u001b[39m\n",
      " \u001b[90m [05181044] \u001b[39m\u001b[92m+ RelocatableFolders v1.0.0\u001b[39m\n",
      " \u001b[90m [ae029012] \u001b[39m\u001b[92m+ Requires v1.3.0\u001b[39m\n",
      " \u001b[90m [6c6a2e73] \u001b[39m\u001b[92m+ Scratch v1.2.0\u001b[39m\n",
      " \u001b[90m [992d4aef] \u001b[39m\u001b[92m+ Showoff v1.0.3\u001b[39m\n",
      " \u001b[90m [777ac1f9] \u001b[39m\u001b[92m+ SimpleBufferStream v1.1.0\u001b[39m\n",
      " \u001b[90m [66db9d55] \u001b[39m\u001b[92m+ SnoopPrecompile v1.0.3\u001b[39m\n",
      " \u001b[90m [a2af1166] \u001b[39m\u001b[92m+ SortingAlgorithms v1.1.0\u001b[39m\n",
      " \u001b[90m [276daf66] \u001b[39m\u001b[92m+ SpecialFunctions v2.2.0\u001b[39m\n",
      " \u001b[90m [82ae8749] \u001b[39m\u001b[92m+ StatsAPI v1.6.0\u001b[39m\n",
      "\u001b[33m⌅\u001b[39m\u001b[90m [2913bbd2] \u001b[39m\u001b[92m+ StatsBase v0.33.21\u001b[39m\n",
      " \u001b[90m [62fd8b95] \u001b[39m\u001b[92m+ TensorCore v0.1.1\u001b[39m\n",
      " \u001b[90m [3bb67fe8] \u001b[39m\u001b[92m+ TranscodingStreams v0.9.13\u001b[39m\n",
      " \u001b[90m [5c2747f8] \u001b[39m\u001b[92m+ URIs v1.4.2\u001b[39m\n",
      " \u001b[90m [1cfade01] \u001b[39m\u001b[92m+ UnicodeFun v0.4.1\u001b[39m\n",
      " \u001b[90m [41fe7b60] \u001b[39m\u001b[92m+ Unzip v0.2.0\u001b[39m\n",
      " \u001b[90m [6e34b625] \u001b[39m\u001b[92m+ Bzip2_jll v1.0.8+0\u001b[39m\n",
      " \u001b[90m [83423d85] \u001b[39m\u001b[92m+ Cairo_jll v1.16.1+1\u001b[39m\n",
      " \u001b[90m [2e619515] \u001b[39m\u001b[92m+ Expat_jll v2.4.8+0\u001b[39m\n",
      " \u001b[90m [b22a6f82] \u001b[39m\u001b[92m+ FFMPEG_jll v4.4.2+2\u001b[39m\n",
      " \u001b[90m [a3f928ae] \u001b[39m\u001b[92m+ Fontconfig_jll v2.13.93+0\u001b[39m\n",
      " \u001b[90m [d7e528f0] \u001b[39m\u001b[92m+ FreeType2_jll v2.10.4+0\u001b[39m\n",
      " \u001b[90m [559328eb] \u001b[39m\u001b[92m+ FriBidi_jll v1.0.10+0\u001b[39m\n",
      " \u001b[90m [0656b61e] \u001b[39m\u001b[92m+ GLFW_jll v3.3.8+0\u001b[39m\n",
      " \u001b[90m [d2c73de3] \u001b[39m\u001b[92m+ GR_jll v0.72.4+0\u001b[39m\n",
      " \u001b[90m [78b55507] \u001b[39m\u001b[92m+ Gettext_jll v0.21.0+0\u001b[39m\n",
      " \u001b[90m [7746bdde] \u001b[39m\u001b[92m+ Glib_jll v2.74.0+2\u001b[39m\n",
      " \u001b[90m [3b182d85] \u001b[39m\u001b[92m+ Graphite2_jll v1.3.14+0\u001b[39m\n",
      " \u001b[90m [2e76f6c2] \u001b[39m\u001b[92m+ HarfBuzz_jll v2.8.1+1\u001b[39m\n",
      " \u001b[90m [aacddb02] \u001b[39m\u001b[92m+ JpegTurbo_jll v2.1.91+0\u001b[39m\n",
      " \u001b[90m [c1c5ebd0] \u001b[39m\u001b[92m+ LAME_jll v3.100.1+0\u001b[39m\n",
      " \u001b[90m [88015f11] \u001b[39m\u001b[92m+ LERC_jll v3.0.0+1\u001b[39m\n",
      " \u001b[90m [dd4b983a] \u001b[39m\u001b[92m+ LZO_jll v2.10.1+0\u001b[39m\n",
      "\u001b[33m⌅\u001b[39m\u001b[90m [e9f186c6] \u001b[39m\u001b[92m+ Libffi_jll v3.2.2+1\u001b[39m\n",
      " \u001b[90m [d4300ac3] \u001b[39m\u001b[92m+ Libgcrypt_jll v1.8.7+0\u001b[39m\n",
      " \u001b[90m [7e76a0d4] \u001b[39m\u001b[92m+ Libglvnd_jll v1.6.0+0\u001b[39m\n",
      " \u001b[90m [7add5ba3] \u001b[39m\u001b[92m+ Libgpg_error_jll v1.42.0+0\u001b[39m\n",
      " \u001b[90m [94ce4f54] \u001b[39m\u001b[92m+ Libiconv_jll v1.16.1+2\u001b[39m\n",
      " \u001b[90m [4b2f31a3] \u001b[39m\u001b[92m+ Libmount_jll v2.35.0+0\u001b[39m\n",
      " \u001b[90m [89763e89] \u001b[39m\u001b[92m+ Libtiff_jll v4.4.0+0\u001b[39m\n",
      " \u001b[90m [38a345b3] \u001b[39m\u001b[92m+ Libuuid_jll v2.36.0+0\u001b[39m\n",
      " \u001b[90m [e7412a2a] \u001b[39m\u001b[92m+ Ogg_jll v1.3.5+1\u001b[39m\n",
      "\u001b[33m⌅\u001b[39m\u001b[90m [458c3c95] \u001b[39m\u001b[92m+ OpenSSL_jll v1.1.20+0\u001b[39m\n",
      " \u001b[90m [efe28fd5] \u001b[39m\u001b[92m+ OpenSpecFun_jll v0.5.5+0\u001b[39m\n",
      " \u001b[90m [91d4177d] \u001b[39m\u001b[92m+ Opus_jll v1.3.2+0\u001b[39m\n",
      " \u001b[90m [30392449] \u001b[39m\u001b[92m+ Pixman_jll v0.40.1+0\u001b[39m\n",
      " \u001b[90m [ea2cea3b] \u001b[39m\u001b[92m+ Qt5Base_jll v5.15.3+2\u001b[39m\n",
      " \u001b[90m [a2964d1f] \u001b[39m\u001b[92m+ Wayland_jll v1.21.0+0\u001b[39m\n",
      " \u001b[90m [2381bf8a] \u001b[39m\u001b[92m+ Wayland_protocols_jll v1.25.0+0\u001b[39m\n",
      " \u001b[90m [02c8fc9c] \u001b[39m\u001b[92m+ XML2_jll v2.10.3+0\u001b[39m\n",
      " \u001b[90m [aed1982a] \u001b[39m\u001b[92m+ XSLT_jll v1.1.34+0\u001b[39m\n",
      " \u001b[90m [4f6342f7] \u001b[39m\u001b[92m+ Xorg_libX11_jll v1.6.9+4\u001b[39m\n",
      " \u001b[90m [0c0b7dd1] \u001b[39m\u001b[92m+ Xorg_libXau_jll v1.0.9+4\u001b[39m\n",
      " \u001b[90m [935fb764] \u001b[39m\u001b[92m+ Xorg_libXcursor_jll v1.2.0+4\u001b[39m\n",
      " \u001b[90m [a3789734] \u001b[39m\u001b[92m+ Xorg_libXdmcp_jll v1.1.3+4\u001b[39m\n",
      " \u001b[90m [1082639a] \u001b[39m\u001b[92m+ Xorg_libXext_jll v1.3.4+4\u001b[39m\n",
      " \u001b[90m [d091e8ba] \u001b[39m\u001b[92m+ Xorg_libXfixes_jll v5.0.3+4\u001b[39m\n",
      " \u001b[90m [a51aa0fd] \u001b[39m\u001b[92m+ Xorg_libXi_jll v1.7.10+4\u001b[39m\n",
      " \u001b[90m [d1454406] \u001b[39m\u001b[92m+ Xorg_libXinerama_jll v1.1.4+4\u001b[39m\n",
      " \u001b[90m [ec84b674] \u001b[39m\u001b[92m+ Xorg_libXrandr_jll v1.5.2+4\u001b[39m\n",
      " \u001b[90m [ea2f1a96] \u001b[39m\u001b[92m+ Xorg_libXrender_jll v0.9.10+4\u001b[39m\n",
      " \u001b[90m [14d82f49] \u001b[39m\u001b[92m+ Xorg_libpthread_stubs_jll v0.1.0+3\u001b[39m\n",
      " \u001b[90m [c7cfdc94] \u001b[39m\u001b[92m+ Xorg_libxcb_jll v1.13.0+3\u001b[39m\n",
      " \u001b[90m [cc61e674] \u001b[39m\u001b[92m+ Xorg_libxkbfile_jll v1.1.0+4\u001b[39m\n",
      " \u001b[90m [12413925] \u001b[39m\u001b[92m+ Xorg_xcb_util_image_jll v0.4.0+1\u001b[39m\n",
      " \u001b[90m [2def613f] \u001b[39m\u001b[92m+ Xorg_xcb_util_jll v0.4.0+1\u001b[39m\n",
      " \u001b[90m [975044d2] \u001b[39m\u001b[92m+ Xorg_xcb_util_keysyms_jll v0.4.0+1\u001b[39m\n",
      " \u001b[90m [0d47668e] \u001b[39m\u001b[92m+ Xorg_xcb_util_renderutil_jll v0.3.9+1\u001b[39m\n",
      " \u001b[90m [c22f9ab0] \u001b[39m\u001b[92m+ Xorg_xcb_util_wm_jll v0.4.1+1\u001b[39m\n",
      " \u001b[90m [35661453] \u001b[39m\u001b[92m+ Xorg_xkbcomp_jll v1.4.2+4\u001b[39m\n",
      " \u001b[90m [33bec58e] \u001b[39m\u001b[92m+ Xorg_xkeyboard_config_jll v2.27.0+4\u001b[39m\n",
      " \u001b[90m [c5fb5394] \u001b[39m\u001b[92m+ Xorg_xtrans_jll v1.4.0+3\u001b[39m\n",
      " \u001b[90m [3161d3a3] \u001b[39m\u001b[92m+ Zstd_jll v1.5.5+0\u001b[39m\n",
      "\u001b[33m⌅\u001b[39m\u001b[90m [214eeab7] \u001b[39m\u001b[92m+ fzf_jll v0.29.0+0\u001b[39m\n",
      " \u001b[90m [a4ae2306] \u001b[39m\u001b[92m+ libaom_jll v3.4.0+0\u001b[39m\n",
      " \u001b[90m [0ac62f75] \u001b[39m\u001b[92m+ libass_jll v0.15.1+0\u001b[39m\n",
      " \u001b[90m [f638f0a6] \u001b[39m\u001b[92m+ libfdk_aac_jll v2.0.2+0\u001b[39m\n",
      " \u001b[90m [b53b4c65] \u001b[39m\u001b[92m+ libpng_jll v1.6.38+0\u001b[39m\n",
      " \u001b[90m [f27f6e37] \u001b[39m\u001b[92m+ libvorbis_jll v1.3.7+1\u001b[39m\n",
      " \u001b[90m [1270edf5] \u001b[39m\u001b[92m+ x264_jll v2021.5.5+0\u001b[39m\n",
      " \u001b[90m [dfaa095f] \u001b[39m\u001b[92m+ x265_jll v3.5.0+0\u001b[39m\n",
      " \u001b[90m [d8fb68d0] \u001b[39m\u001b[92m+ xkbcommon_jll v1.4.1+0\u001b[39m\n",
      " \u001b[90m [0dad84c5] \u001b[39m\u001b[92m+ ArgTools v1.1.1\u001b[39m\n",
      " \u001b[90m [56f22d72] \u001b[39m\u001b[92m+ Artifacts\u001b[39m\n",
      " \u001b[90m [2a0f44e3] \u001b[39m\u001b[92m+ Base64\u001b[39m\n",
      " \u001b[90m [ade2ca70] \u001b[39m\u001b[92m+ Dates\u001b[39m\n",
      " \u001b[90m [8bb1440f] \u001b[39m\u001b[92m+ DelimitedFiles\u001b[39m\n",
      " \u001b[90m [f43a241f] \u001b[39m\u001b[92m+ Downloads v1.6.0\u001b[39m\n",
      " \u001b[90m [7b1f6079] \u001b[39m\u001b[92m+ FileWatching\u001b[39m\n",
      " \u001b[90m [b77e0a4c] \u001b[39m\u001b[92m+ InteractiveUtils\u001b[39m\n",
      " \u001b[90m [b27032c2] \u001b[39m\u001b[92m+ LibCURL v0.6.3\u001b[39m\n",
      " \u001b[90m [76f85450] \u001b[39m\u001b[92m+ LibGit2\u001b[39m\n",
      " \u001b[90m [8f399da3] \u001b[39m\u001b[92m+ Libdl\u001b[39m\n",
      " \u001b[90m [37e2e46d] \u001b[39m\u001b[92m+ LinearAlgebra\u001b[39m\n",
      " \u001b[90m [56ddb016] \u001b[39m\u001b[92m+ Logging\u001b[39m\n",
      " \u001b[90m [d6f4376e] \u001b[39m\u001b[92m+ Markdown\u001b[39m\n",
      " \u001b[90m [a63ad114] \u001b[39m\u001b[92m+ Mmap\u001b[39m\n",
      " \u001b[90m [ca575930] \u001b[39m\u001b[92m+ NetworkOptions v1.2.0\u001b[39m\n",
      " \u001b[90m [44cfe95a] \u001b[39m\u001b[92m+ Pkg v1.8.0\u001b[39m\n",
      " \u001b[90m [de0858da] \u001b[39m\u001b[92m+ Printf\u001b[39m\n",
      " \u001b[90m [3fa0cd96] \u001b[39m\u001b[92m+ REPL\u001b[39m\n",
      " \u001b[90m [9a3f8284] \u001b[39m\u001b[92m+ Random\u001b[39m\n",
      " \u001b[90m [ea8e919c] \u001b[39m\u001b[92m+ SHA v0.7.0\u001b[39m\n",
      " \u001b[90m [9e88b42a] \u001b[39m\u001b[92m+ Serialization\u001b[39m\n",
      " \u001b[90m [6462fe0b] \u001b[39m\u001b[92m+ Sockets\u001b[39m\n",
      " \u001b[90m [2f01184e] \u001b[39m\u001b[92m+ SparseArrays\u001b[39m\n",
      " \u001b[90m [10745b16] \u001b[39m\u001b[92m+ Statistics\u001b[39m\n",
      " \u001b[90m [fa267f1f] \u001b[39m\u001b[92m+ TOML v1.0.0\u001b[39m\n",
      " \u001b[90m [a4e569a6] \u001b[39m\u001b[92m+ Tar v1.10.1\u001b[39m\n",
      " \u001b[90m [8dfed614] \u001b[39m\u001b[92m+ Test\u001b[39m\n",
      " \u001b[90m [cf7118a7] \u001b[39m\u001b[92m+ UUIDs\u001b[39m\n",
      " \u001b[90m [4ec0a83e] \u001b[39m\u001b[92m+ Unicode\u001b[39m\n",
      " \u001b[90m [e66e0078] \u001b[39m\u001b[92m+ CompilerSupportLibraries_jll v1.0.1+0\u001b[39m\n",
      " \u001b[90m [deac9b47] \u001b[39m\u001b[92m+ LibCURL_jll v7.84.0+0\u001b[39m\n",
      " \u001b[90m [29816b5a] \u001b[39m\u001b[92m+ LibSSH2_jll v1.10.2+0\u001b[39m\n",
      " \u001b[90m [c8ffd9c3] \u001b[39m\u001b[92m+ MbedTLS_jll v2.28.0+0\u001b[39m\n",
      " \u001b[90m [14a3606d] \u001b[39m\u001b[92m+ MozillaCACerts_jll v2022.2.1\u001b[39m\n",
      " \u001b[90m [4536629a] \u001b[39m\u001b[92m+ OpenBLAS_jll v0.3.20+0\u001b[39m\n",
      " \u001b[90m [05823500] \u001b[39m\u001b[92m+ OpenLibm_jll v0.8.1+0\u001b[39m\n",
      " \u001b[90m [efcefdf7] \u001b[39m\u001b[92m+ PCRE2_jll v10.40.0+0\u001b[39m\n",
      " \u001b[90m [83775a58] \u001b[39m\u001b[92m+ Zlib_jll v1.2.12+3\u001b[39m\n",
      " \u001b[90m [8e850b90] \u001b[39m\u001b[92m+ libblastrampoline_jll v5.1.1+0\u001b[39m\n",
      " \u001b[90m [8e850ede] \u001b[39m\u001b[92m+ nghttp2_jll v1.48.0+0\u001b[39m\n",
      " \u001b[90m [3f19e933] \u001b[39m\u001b[92m+ p7zip_jll v17.4.0+0\u001b[39m\n",
      "\u001b[36m\u001b[1m        Info\u001b[22m\u001b[39m Packages marked with \u001b[33m⌅\u001b[39m have new versions available but compatibility constraints restrict them from upgrading. To see why use `status --outdated -m`\n"
     ]
    }
   ],
   "source": [
    "using Pkg\n",
    "Pkg.activate(\".\")\n",
    "Pkg.add(\"Plots\")"
   ]
  },
  {
   "cell_type": "markdown",
   "id": "f93d14d5-3c3c-4c8f-b824-381143061b82",
   "metadata": {
    "slideshow": {
     "slide_type": "slide"
    }
   },
   "source": [
    "## Setting up a project (i.e., your homework)"
   ]
  },
  {
   "attachments": {
    "images/juliapkgstructure.png": {
     "image/png": "[encoded data removed]"
    }
   },
   "cell_type": "markdown",
   "id": "c69ed540-6c1f-481e-b172-866fba4d9df9",
   "metadata": {},
   "source": [
    "-   Julia package structure: ![Julia package\n",
    "    structure](attachment:images/juliapkgstructure.png)\n",
    "-   generate with `] generate MyPackage`\n",
    "-   add files in `src` and `include` them in `MyPackage.jl`"
   ]
  },
  {
   "cell_type": "markdown",
   "id": "8bc239a1-5bc8-4c18-ad5f-2ee0d64c0740",
   "metadata": {
    "slideshow": {
     "slide_type": "slide"
    }
   },
   "source": [
    "## Using a project"
   ]
  },
  {
   "cell_type": "markdown",
   "id": "8199face-cd16-44ca-9f64-7401c88af42f",
   "metadata": {},
   "source": [
    "-   tell Julia to use current folder as project folder: `] activate .`"
   ]
  },
  {
   "cell_type": "code",
   "execution_count": 2,
   "id": "25a70343-d045-4b72-aa2d-236d1624ba34",
   "metadata": {},
   "outputs": [
    {
     "name": "stderr",
     "output_type": "stream",
     "text": [
      "\u001b[32m\u001b[1m  Activating\u001b[22m\u001b[39m project at `Z:\\Studium\\Master_SE\\Semester_01\\Computer_Vision_1\\Assignment_01`\n"
     ]
    }
   ],
   "source": [
    "using Pkg\n",
    "Pkg.activate(\".\")"
   ]
  },
  {
   "cell_type": "markdown",
   "id": "34017c06-ed2a-4672-b5b8-2bcadee0ef70",
   "metadata": {},
   "source": [
    "-   tell Julia to install all dependencies: `] instantiate`"
   ]
  },
  {
   "cell_type": "code",
   "execution_count": 4,
   "id": "742c4107-fb85-446e-8652-52ddb828d318",
   "metadata": {},
   "outputs": [],
   "source": [
    "using Pkg\n",
    "Pkg.instantiate()"
   ]
  },
  {
   "cell_type": "markdown",
   "id": "2eef1326-cf4f-4522-9dae-1feae0afb0ed",
   "metadata": {
    "slideshow": {
     "slide_type": "subslide"
    }
   },
   "source": [
    "### Task 2: Dependencies for homework"
   ]
  },
  {
   "cell_type": "markdown",
   "id": "3fc752d8-9b35-4748-a32f-0af23fbd515a",
   "metadata": {},
   "source": [
    "Create a folder “homework” on your computer. Activate is using the\n",
    "package manager and install the following packages:\n",
    "\n",
    "-   `Images`\n",
    "-   `Plots`\n",
    "-   `FFTW`\n",
    "-   `IJulia`"
   ]
  },
  {
   "cell_type": "markdown",
   "id": "b1d01fe9-5e45-4eaa-9a8e-d337d2223ff9",
   "metadata": {
    "slideshow": {
     "slide_type": "slide"
    }
   },
   "source": [
    "# Language Elements and Syntax"
   ]
  },
  {
   "cell_type": "markdown",
   "id": "a862fde7-3d8e-43e9-90c5-8c2aca6022ef",
   "metadata": {
    "slideshow": {
     "slide_type": "subslide"
    }
   },
   "source": [
    "## The basics"
   ]
  },
  {
   "cell_type": "markdown",
   "id": "ecf07556-59a0-409a-913d-1ac8207ee90d",
   "metadata": {},
   "source": [
    "-   comments begin with `#`\n",
    "-   assignment with `=`, variables have dynamic types"
   ]
  },
  {
   "cell_type": "code",
   "execution_count": 5,
   "id": "b453f0a6-fa5e-4b7d-a334-640d0a88af63",
   "metadata": {},
   "outputs": [
    {
     "data": {
      "text/plain": [
       "\"Hi\""
      ]
     },
     "execution_count": 5,
     "metadata": {},
     "output_type": "execute_result"
    }
   ],
   "source": [
    "a = 3       # Integer\n",
    "a = 3.0     # Float64\n",
    "a = 'c'     # Char\n",
    "a = \"Hi\"    # String"
   ]
  },
  {
   "cell_type": "markdown",
   "id": "90e051ae-9df9-4a9d-a8b1-bf3f35f1befd",
   "metadata": {
    "slideshow": {
     "slide_type": "subslide"
    }
   },
   "source": [
    "## Operators"
   ]
  },
  {
   "cell_type": "markdown",
   "id": "cfa33708-1c6a-42db-afaf-92d16cb1ec10",
   "metadata": {},
   "source": [
    "### Math:"
   ]
  },
  {
   "cell_type": "code",
   "execution_count": 6,
   "id": "4557f125-d541-4d72-a5e6-7f6dfda308a3",
   "metadata": {},
   "outputs": [
    {
     "name": "stdout",
     "output_type": "stream",
     "text": [
      "8\n",
      "-2\n",
      "15\n",
      "0.6\n",
      "0\n",
      "243\n"
     ]
    }
   ],
   "source": [
    "println(3 + 5) # addition\n",
    "println(3 - 5) # subtraction\n",
    "println(3 * 5) # multiplication\n",
    "println(3 / 5) # division\n",
    "println(3 ÷ 5) # integer division\n",
    "println(3 ^ 5) # potentiation"
   ]
  },
  {
   "cell_type": "markdown",
   "id": "494a37f9-80f0-450e-a780-d2ad428e9a00",
   "metadata": {
    "slideshow": {
     "slide_type": "subslide"
    }
   },
   "source": [
    "### Logic:"
   ]
  },
  {
   "cell_type": "code",
   "execution_count": 7,
   "id": "3e200020-227c-4fb1-8792-a14cb1ff951a",
   "metadata": {},
   "outputs": [
    {
     "name": "stdout",
     "output_type": "stream",
     "text": [
      "false\n",
      "true\n"
     ]
    }
   ],
   "source": [
    "println(true && false)\n",
    "println(true || false)"
   ]
  },
  {
   "cell_type": "markdown",
   "id": "f17201b9-a46b-4497-8e0f-e2c2fbf33866",
   "metadata": {},
   "source": [
    "### Comparisons:"
   ]
  },
  {
   "cell_type": "code",
   "execution_count": 8,
   "id": "d832f652-09cf-4b36-80e0-c5f5eba8be10",
   "metadata": {},
   "outputs": [
    {
     "name": "stdout",
     "output_type": "stream",
     "text": [
      "true\n",
      "true\n",
      "false\n"
     ]
    }
   ],
   "source": [
    "println(5 > 4)\n",
    "println(6 ≥ 6)\n",
    "println(5 ≠ 5)"
   ]
  },
  {
   "cell_type": "markdown",
   "id": "15a8a9e3-0465-496d-b24e-3019228515f6",
   "metadata": {
    "slideshow": {
     "slide_type": "subslide"
    }
   },
   "source": [
    "## Control structures"
   ]
  },
  {
   "cell_type": "markdown",
   "id": "83b8760c-78c5-4b78-90d4-49786af69b9d",
   "metadata": {},
   "source": [
    "-   Usual keywords for control structures: `if`, `for`, `while`\n",
    "-   End of a construct is delimited by keyword `end`"
   ]
  },
  {
   "cell_type": "code",
   "execution_count": 9,
   "id": "8622a0f5-68e6-4db5-a295-f0730f7785db",
   "metadata": {},
   "outputs": [
    {
     "name": "stdout",
     "output_type": "stream",
     "text": [
      "Too long\n"
     ]
    }
   ],
   "source": [
    "a = \"Hi there\"\n",
    "if length(a) > 7\n",
    "    println(\"Too long\")\n",
    "elseif length(a) < 7\n",
    "    println(\"Too short\")\n",
    "else\n",
    "    println(\"Just right\")\n",
    "end"
   ]
  },
  {
   "cell_type": "code",
   "execution_count": null,
   "id": "df9b1d4f-1b6f-4615-a6c7-56f8d54fbc3f",
   "metadata": {},
   "outputs": [],
   "source": [
    "for i in 1:10\n",
    "    println(\"i is $i\")\n",
    "end"
   ]
  },
  {
   "cell_type": "markdown",
   "id": "3b081d90-62a0-43ac-89e1-8d41f511735b",
   "metadata": {
    "slideshow": {
     "slide_type": "subslide"
    }
   },
   "source": [
    "## Vectors and Arrays"
   ]
  },
  {
   "cell_type": "markdown",
   "id": "16deecff-9ac8-41cd-9932-7a9ee60f7e50",
   "metadata": {},
   "source": [
    "-   Array: **collection** of elements of the same type\n",
    "-   For example:"
   ]
  },
  {
   "cell_type": "code",
   "execution_count": null,
   "id": "3f5dfe1f-a23b-4691-aff7-d93233af79f9",
   "metadata": {},
   "outputs": [],
   "source": [
    "row = [1 2 3 4 5]       # row vector (size 1x5, type Int)\n",
    "col = [1.; 2.; 3.; 4.]  # column vector (size 4, type Float64)\n",
    "mat = [1. 2.; 3. 4.]    # matrix (size 2x2, type Float64)"
   ]
  },
  {
   "cell_type": "markdown",
   "id": "b161c932-814a-4376-8b56-ad0a77e295f6",
   "metadata": {},
   "source": [
    "-   Easy to build and manipulate:"
   ]
  },
  {
   "cell_type": "code",
   "execution_count": null,
   "id": "1195584f-b8ce-4139-9891-133363bc097e",
   "metadata": {},
   "outputs": [],
   "source": [
    "z = zeros(3, 4)\n",
    "o = ones(4, 2)\n",
    "z * o   # matrix product"
   ]
  },
  {
   "cell_type": "code",
   "execution_count": null,
   "id": "c9e97c46-bf15-42c4-ba89-6d7b1ab742af",
   "metadata": {},
   "outputs": [],
   "source": [
    "r = collect(1:10)"
   ]
  },
  {
   "cell_type": "markdown",
   "id": "d76814d9-66dd-4eb6-a924-d15b460c86ce",
   "metadata": {
    "slideshow": {
     "slide_type": "subslide"
    }
   },
   "source": [
    "### Element access"
   ]
  },
  {
   "cell_type": "markdown",
   "id": "be6929b8-1deb-44aa-9dea-91dd85c60219",
   "metadata": {},
   "source": [
    "-   Select elements with square brackets `[]`"
   ]
  },
  {
   "cell_type": "code",
   "execution_count": null,
   "id": "819d051c-9c56-4574-ba7c-62c8f9a02b4b",
   "metadata": {},
   "outputs": [],
   "source": [
    "x = randn(5, 4)\n",
    "x[2, 2]"
   ]
  },
  {
   "cell_type": "markdown",
   "id": "fe8bdd60-c9bb-4951-9a70-40be0c13d4a6",
   "metadata": {},
   "source": [
    "-   Julia is **1-indexed** (unless you specify something else)\n",
    "-   Select **slices** (sub-arrays) with `:`"
   ]
  },
  {
   "cell_type": "code",
   "execution_count": null,
   "id": "6cdf970e-9aed-47db-86b8-2d6125d89f7d",
   "metadata": {},
   "outputs": [],
   "source": [
    "x[2, :]"
   ]
  },
  {
   "cell_type": "markdown",
   "id": "06932dee-6d88-48e1-9cb6-5cd0917d816e",
   "metadata": {},
   "source": [
    "-   Assignment to slices works as expected:"
   ]
  },
  {
   "cell_type": "code",
   "execution_count": null,
   "id": "fb428c7e-1a99-461f-93e7-43dce2dc5658",
   "metadata": {},
   "outputs": [],
   "source": [
    "x[2, :] .= 0.\n",
    "x"
   ]
  },
  {
   "cell_type": "markdown",
   "id": "4cfecdcf-95bb-4492-931c-e936518b9457",
   "metadata": {
    "slideshow": {
     "slide_type": "subslide"
    }
   },
   "source": [
    "### Vectorized operations"
   ]
  },
  {
   "cell_type": "markdown",
   "id": "a5318d5f-c42a-48b8-a826-13caa578c80a",
   "metadata": {},
   "source": [
    "-   Any function or operator can be **broadcast** (applied element-wise)\n",
    "    using `.` operator"
   ]
  },
  {
   "cell_type": "code",
   "execution_count": null,
   "id": "807b78fd-8de8-4917-8641-721cd746342d",
   "metadata": {},
   "outputs": [],
   "source": [
    "x = randn(2, 3)\n",
    "println(x .* x)\n",
    "println(sin.(x))"
   ]
  },
  {
   "cell_type": "markdown",
   "id": "bd56b16b-743c-4936-b761-a4cc9d8b69fb",
   "metadata": {},
   "source": [
    "-   Can also be written as a for loop (loops are fast in Julia)\n",
    "-   To vectorize a whole line, use `@.` macro"
   ]
  },
  {
   "cell_type": "code",
   "execution_count": null,
   "id": "65f26d13-4065-492e-b47b-fcdff559b4a6",
   "metadata": {},
   "outputs": [],
   "source": [
    "x = randn(2, 3)\n",
    "y = rand(2, 3)\n",
    "z = zeros(2, 3)\n",
    "@. z = x + y - π"
   ]
  },
  {
   "cell_type": "markdown",
   "id": "4b722f21-c5ab-4f92-9827-69bbbc4e54d9",
   "metadata": {
    "slideshow": {
     "slide_type": "subslide"
    }
   },
   "source": [
    "## Visualization and Plotting"
   ]
  },
  {
   "cell_type": "markdown",
   "id": "4e952cce-d94e-44e4-9e9e-8b873bee1887",
   "metadata": {},
   "source": [
    "-   Plotting meta-package: `Plots.jl`\n",
    "-   Several compatible backends:\n",
    "    -   `GR` (standard)\n",
    "    -   `PyPlot` (same as Python)\n",
    "    -   `Plotly` (browser compatible)\n",
    "    -   `UnicodePlots` (terminal compatible)\n",
    "    -   `PGFPlotsX` (LaTeX-compatible output)\n",
    "-   more on this in a separate tutorial"
   ]
  },
  {
   "cell_type": "code",
   "execution_count": null,
   "id": "5a616a35-be12-4fda-975f-452b0a7a20a6",
   "metadata": {},
   "outputs": [],
   "source": [
    "using Plots\n",
    "x = LinRange(0, 2π, 100)\n",
    "y = sin.(x)\n",
    "plot(x, y, label=\"sine\")\n",
    "plot!(x, cos, label=\"cosine\")"
   ]
  },
  {
   "cell_type": "markdown",
   "id": "22f8fe0a-4ff5-4bc1-ad0e-78ac7975b789",
   "metadata": {
    "slideshow": {
     "slide_type": "subslide"
    }
   },
   "source": [
    "## Functions"
   ]
  },
  {
   "cell_type": "markdown",
   "id": "e9b9a8a9-ed20-4b21-929d-e8bd2b03e976",
   "metadata": {},
   "source": [
    "-   Grouping code in functions is central to Julia\n",
    "-   Functions are **compiled**, making them fast\n",
    "-   Defined with `function` keyword:"
   ]
  },
  {
   "cell_type": "code",
   "execution_count": null,
   "id": "0e0f23d9-eb71-44bb-9f39-63df6ed2b58e",
   "metadata": {},
   "outputs": [],
   "source": [
    "using Statistics: mean\n",
    "\n",
    "function rms(x)\n",
    "    y = mean(x.^2)\n",
    "    return(sqrt(y))\n",
    "end"
   ]
  },
  {
   "cell_type": "code",
   "execution_count": null,
   "id": "4dfd06f6-9566-47aa-9e8d-bc723869c282",
   "metadata": {},
   "outputs": [],
   "source": [
    "rms(randn(5))"
   ]
  },
  {
   "cell_type": "markdown",
   "id": "a5293efb-e105-4961-b523-8fe870a0e6ab",
   "metadata": {},
   "source": [
    "-   Shorter syntax for one-line functions:"
   ]
  },
  {
   "cell_type": "code",
   "execution_count": null,
   "id": "4b456a1f-7afc-46d5-94d0-326ba484a26d",
   "metadata": {},
   "outputs": [],
   "source": [
    "rms2(x) = sqrt(mean(x.^2))"
   ]
  },
  {
   "cell_type": "markdown",
   "id": "3ce9f257-a12c-4dcb-863c-a1a126e20377",
   "metadata": {},
   "source": [
    "-   Anonymous (lambda) functions:"
   ]
  },
  {
   "cell_type": "code",
   "execution_count": null,
   "id": "342cd635-f167-4be3-8a35-1a6432c4cc8a",
   "metadata": {},
   "outputs": [],
   "source": [
    "x -> sqrt(mean(x.^2))"
   ]
  },
  {
   "cell_type": "markdown",
   "id": "fab8d774-ec8c-432e-9e60-6b83fd7bfab6",
   "metadata": {
    "slideshow": {
     "slide_type": "subslide"
    }
   },
   "source": [
    "### Multiple dispatch"
   ]
  },
  {
   "cell_type": "markdown",
   "id": "13a06699-268f-4423-8907-0b4de6277f22",
   "metadata": {},
   "source": [
    "-   Functions are **generic**\n",
    "-   Specific **method** is selected based on **types** of input\n",
    "    arguments"
   ]
  },
  {
   "cell_type": "code",
   "execution_count": null,
   "id": "51d1b61b-bafc-4f8a-845e-54ecd8e8a5ab",
   "metadata": {},
   "outputs": [],
   "source": [
    "cube(x) = x * x * x\n",
    "println(cube(5))\n",
    "println(cube(5.0))\n",
    "println(cube(\"Hi\"))"
   ]
  },
  {
   "cell_type": "markdown",
   "id": "31c2c999-5a0c-4f04-b25b-f57f118a322f",
   "metadata": {
    "slideshow": {
     "slide_type": "subslide"
    }
   },
   "source": [
    "-   This enables methods to be compiled to **efficient machine code**"
   ]
  },
  {
   "cell_type": "code",
   "execution_count": null,
   "id": "b8d1fbdb-35c8-491d-bf44-33e0f9269f07",
   "metadata": {},
   "outputs": [],
   "source": [
    "@code_native cube(1)"
   ]
  },
  {
   "cell_type": "markdown",
   "id": "e2c48595-eb00-4a5e-b401-f53fb50a2759",
   "metadata": {},
   "source": [
    "-   Knowing your types is crucial"
   ]
  },
  {
   "cell_type": "code",
   "execution_count": null,
   "id": "026d1408-3968-4732-a6d5-9959aa088c9d",
   "metadata": {},
   "outputs": [],
   "source": [
    "sqrt(-1.)"
   ]
  },
  {
   "cell_type": "code",
   "execution_count": null,
   "id": "192f825f-8cbb-4433-958d-209207f7b3f9",
   "metadata": {},
   "outputs": [],
   "source": [
    "sqrt(-1. + 0im)"
   ]
  },
  {
   "cell_type": "markdown",
   "id": "e6175586-5dfd-4344-800d-eff290b6da73",
   "metadata": {
    "slideshow": {
     "slide_type": "subslide"
    }
   },
   "source": [
    "## Types"
   ]
  },
  {
   "cell_type": "markdown",
   "id": "8b1aca8b-89ac-4199-a380-790f7a16cb83",
   "metadata": {},
   "source": [
    "-   Julia’s type system:\n",
    "    -   everything has a type\n",
    "    -   a value has to be of a concrete type (a `struct`)\n",
    "    -   concrete types can have abstract parent types\n",
    "-   Inspect type of an object with `typeof`:"
   ]
  },
  {
   "cell_type": "code",
   "execution_count": null,
   "id": "41f9ac79-c2c2-4cd7-a589-dc1eda2bd3df",
   "metadata": {},
   "outputs": [],
   "source": [
    "println(typeof(1.0))\n",
    "println(typeof(\"Hi\"))"
   ]
  },
  {
   "cell_type": "markdown",
   "id": "2eee9f72-5e68-4a86-abf3-7a3b9fbc8fb8",
   "metadata": {},
   "source": [
    "-   Explore type hierarchy with `supertype`:"
   ]
  },
  {
   "cell_type": "code",
   "execution_count": null,
   "id": "20f02148-062e-4044-983e-9d9e687c0233",
   "metadata": {},
   "outputs": [],
   "source": [
    "supertype(typeof(1.0))"
   ]
  },
  {
   "cell_type": "markdown",
   "id": "11cfb8ff-699a-4b9d-8233-b57ccf69c366",
   "metadata": {
    "slideshow": {
     "slide_type": "subslide"
    }
   },
   "source": [
    "### Make your own types"
   ]
  },
  {
   "cell_type": "markdown",
   "id": "6fa0c774-915f-409e-be68-977d4f33deae",
   "metadata": {},
   "source": [
    "-   Abstract types:"
   ]
  },
  {
   "cell_type": "code",
   "execution_count": null,
   "id": "f25f5834-53a1-4876-8739-a446f4bb34e1",
   "metadata": {},
   "outputs": [],
   "source": [
    "abstract type MyType end;"
   ]
  },
  {
   "cell_type": "markdown",
   "id": "990d17e8-34d8-423d-957e-f0e0d2e6531d",
   "metadata": {},
   "source": [
    "-   Subtype relation expressed with `<:`\n",
    "-   Type of something can be annotated with `::`\n",
    "-   Concrete types with `struct` or `mutable struct`"
   ]
  },
  {
   "cell_type": "code",
   "execution_count": null,
   "id": "22b41cd9-83b2-4dfa-aecb-173438197c22",
   "metadata": {},
   "outputs": [],
   "source": [
    "struct Point <: MyType # Point is suptype of MyType\n",
    "    x::Int # a Point has two fields, each of type Int\n",
    "    y::Int\n",
    "end"
   ]
  },
  {
   "cell_type": "code",
   "execution_count": null,
   "id": "47019265-c316-439a-b927-cd7f098ee39c",
   "metadata": {
    "slideshow": {
     "slide_type": "fragment"
    }
   },
   "outputs": [],
   "source": [
    "p = Point3(1, 2)\n",
    "println(p.x)\n",
    "p.x = 3  # only works for mutable struct "
   ]
  },
  {
   "cell_type": "markdown",
   "id": "ba2365bd-931f-4196-b588-be52f7e117ef",
   "metadata": {
    "slideshow": {
     "slide_type": "subslide"
    }
   },
   "source": [
    "### Task 3: A new function"
   ]
  },
  {
   "cell_type": "markdown",
   "id": "897bbd70-561b-47ca-8861-e7c3d37ba45c",
   "metadata": {},
   "source": [
    "Define a function `×` that computes the outer product of two vectors `a`\n",
    "and `b`."
   ]
  },
  {
   "cell_type": "markdown",
   "id": "1f054333-b3ee-4aed-a3b8-d1b386ae5798",
   "metadata": {
    "slideshow": {
     "slide_type": "subslide"
    }
   },
   "source": [
    "## Useful packages"
   ]
  },
  {
   "cell_type": "markdown",
   "id": "4f773058-cc6b-43ff-951a-7487f919cd38",
   "metadata": {},
   "source": [
    "-   Base and standard library ([see\n",
    "    docs.julialang.org](https://docs.julialang.org/en/v1/))\n",
    "-   [`Revise.jl`](https://github.com/timholy/Revise.jl) for reloading\n",
    "    code while its running\n",
    "-   [`Plots.jl`](https://docs.juliaplots.org/latest/) for visualization\n",
    "-   [`Images.jl`](https://juliaimages.org/latest/) for image processing\n",
    "-   [`DifferentialEquations.jl`](https://docs.juliadiffeq.org/latest/)\n",
    "    for differential equations\n",
    "-   [`GPUArrays.jl`](https://juliagpu.github.io/GPUArrays.jl/latest/)\n",
    "    and related packages for graphics acceleration"
   ]
  },
  {
   "cell_type": "markdown",
   "id": "7d9ce924-ba2b-40fa-bb74-e282a22ef72a",
   "metadata": {
    "slideshow": {
     "slide_type": "slide"
    }
   },
   "source": [
    "## Where to get help"
   ]
  },
  {
   "cell_type": "markdown",
   "id": "6d7b5b15-da1b-493f-a314-c266c10ab22e",
   "metadata": {},
   "source": [
    "-   Julia [documentation](https://docs.julialang.org/en/v1/) and\n",
    "    [resources](https://julialang.org/learning/) at\n",
    "    [julialang.org](julialang.org)\n",
    "-   Julia [cheat sheet](https://juliadocs.github.io/Julia-Cheat-Sheet/)\n",
    "-   StackOverflow tag\n",
    "    [`julia`](https://stackoverflow.com/questions/tagged/julia)\n",
    "-   Community [channels](https://julialang.org/community/) on several\n",
    "    media"
   ]
  }
 ],
 "metadata": {
  "kernelspec": {
   "display_name": "Julia 1.8.5",
   "language": "julia",
   "name": "julia-1.8"
  },
  "language_info": {
   "file_extension": ".jl",
   "mimetype": "application/julia",
   "name": "julia",
   "version": "1.8.5"
  },
  "rise": {
   "auto_select": "code",
   "scroll": true,
   "theme": "uulm"
  }
 },
 "nbformat": 4,
 "nbformat_minor": 5
}
