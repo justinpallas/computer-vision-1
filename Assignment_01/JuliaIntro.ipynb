{
 "cells": [
  {
   "cell_type": "markdown",
   "id": "3ca8b30b-996d-4db4-90b9-85109e06a64a",
   "metadata": {
    "slideshow": {
     "slide_type": "slide"
    }
   },
   "source": [
    "# A Quick Tour of Julia"
   ]
  },
  {
   "cell_type": "markdown",
   "id": "374da4f6-c8b3-46d9-a5d7-4405a0c058ce",
   "metadata": {
    "slideshow": {
     "slide_type": "subslide"
    }
   },
   "source": [
    "## What is Julia"
   ]
  },
  {
   "cell_type": "markdown",
   "id": "f14b4e79-3a8d-4b71-a98f-d12449455895",
   "metadata": {},
   "source": [
    "-   **Open source** programming language\n",
    "-   **Easy** to use:\n",
    "    -   dynamic typing\n",
    "    -   excellent REPL\n",
    "-   Designed for **performance**:\n",
    "    -   detailed type system, dynamic dispatch\n",
    "    -   function code is optimized and compiled using LLVM\n",
    "-   Excellent for **scientific programming**:\n",
    "    -   good number crunching performance\n",
    "    -   comprehensive libraries\n",
    "    -   avoids the dual language problem"
   ]
  },
  {
   "cell_type": "markdown",
   "id": "7bf8bbcb-f501-450e-8c3e-dd7a958529df",
   "metadata": {
    "slideshow": {
     "slide_type": "slide"
    }
   },
   "source": [
    "# Working with Julia"
   ]
  },
  {
   "cell_type": "markdown",
   "id": "93f7183b-b47b-4b38-98b4-3fac3e348f80",
   "metadata": {
    "slideshow": {
     "slide_type": "subslide"
    }
   },
   "source": [
    "## Installation and setup"
   ]
  },
  {
   "cell_type": "markdown",
   "id": "9e7147e7-2975-43a0-bfc0-0487c5687b56",
   "metadata": {},
   "source": [
    "-   Get binaries at [julialang.org](https://julialang.org/downloads/) or\n",
    "    use your OS’s package manager\n",
    "-   Use current stable version: `v1.8.5`\n",
    "-   Recommended IDE: vscode with [julia\n",
    "    extension](https://www.julia-vscode.org/)\n",
    "-   Install package [`IJulia`](https://github.com/JuliaLang/IJulia.jl)\n",
    "    for [Jupyter](https://jupyter.org/) integration"
   ]
  },
  {
   "cell_type": "markdown",
   "id": "a54fd5ef-c75c-446d-9c27-ac600a242be5",
   "metadata": {
    "slideshow": {
     "slide_type": "subslide"
    }
   },
   "source": [
    "## The REPL"
   ]
  },
  {
   "cell_type": "markdown",
   "id": "93f55e91-6aad-47e2-aa40-81db22acfacb",
   "metadata": {},
   "source": [
    "-   **r**ead - **e**valuate - **p**rint loop\n",
    "-   Julia’s command line interface\n",
    "-   built-in:\n",
    "    -   help function (type `?`)\n",
    "    -   package manager (type `]`)\n",
    "    -   shell integration (type `;`)\n",
    "-   intelligent multi-line editing\n",
    "-   can enter unicode signs (e.g., operators) with LaTeX codes"
   ]
  },
  {
   "cell_type": "markdown",
   "id": "2ef3db60-acd4-41e7-a788-948184a19ebc",
   "metadata": {
    "slideshow": {
     "slide_type": "subslide"
    }
   },
   "source": [
    "### Task 1: Get Help"
   ]
  },
  {
   "cell_type": "markdown",
   "id": "740971b5-6e16-4931-833f-12c2dc0dc83b",
   "metadata": {},
   "source": [
    "Use the built-in functions of the REPL to get the following information:\n",
    "\n",
    "-   Which directory are you currently in?\n",
    "-   What does the operator `∈` do?\n",
    "-   What is the difference between `=`, `==`, `===`, and `≡`"
   ]
  },
  {
   "cell_type": "markdown",
   "id": "ce58ab0a-8b80-41a3-968f-fb15c25b0606",
   "metadata": {
    "slideshow": {
     "slide_type": "subslide"
    }
   },
   "source": [
    "## Installing packages"
   ]
  },
  {
   "cell_type": "markdown",
   "id": "17fc55a3-98ad-474c-9d03-c5d0c657edb0",
   "metadata": {},
   "source": [
    "-   Access Julia’s built-in package manager from REPL: `]`\n",
    "\n",
    "-   Add package [Images.jl](https://juliaimages.org/latest/):\n",
    "    `] add Images`\n",
    "\n",
    "-   Access an installed package:\n",
    "\n",
    "    ``` julia\n",
    "    using Images\n",
    "    using FFTW: fft\n",
    "    ```\n",
    "\n",
    "-   See installed packages: `] st`"
   ]
  },
  {
   "cell_type": "markdown",
   "id": "4d88a5d7-a6b5-4b48-ad0a-ba0b7a117db7",
   "metadata": {
    "slideshow": {
     "slide_type": "subslide"
    }
   },
   "source": [
    "-   Outside REPL, package manager is available as module `Pkg`"
   ]
  },
  {
   "cell_type": "code",
   "execution_count": 1,
   "id": "0a7af17a-6c69-4589-b635-36ffde45ada2",
   "metadata": {},
   "outputs": [
    {
     "name": "stderr",
     "output_type": "stream",
     "text": [
      "\u001b[32m\u001b[1m  Activating\u001b[22m\u001b[39m new project at `Z:\\Studium\\Master_SE\\Semester_01\\Computer_Vision_1\\Assignment_01`\n",
      "\u001b[32m\u001b[1m    Updating\u001b[22m\u001b[39m registry at `C:\\Users\\justi\\.julia\\registries\\General.toml`\n",
      "\u001b[32m\u001b[1m   Resolving\u001b[22m\u001b[39m package versions...\n",
      "\u001b[32m\u001b[1m    Updating\u001b[22m\u001b[39m `Z:\\Studium\\Master_SE\\Semester_01\\Computer_Vision_1\\Assignment_01\\Project.toml`\n",
      " \u001b[90m [91a5bcdd] \u001b[39m\u001b[92m+ Plots v1.38.11\u001b[39m\n",
      "\u001b[32m\u001b[1m    Updating\u001b[22m\u001b[39m `Z:\\Studium\\Master_SE\\Semester_01\\Computer_Vision_1\\Assignment_01\\Manifest.toml`\n",
      " \u001b[90m [d1d4a3ce] \u001b[39m\u001b[92m+ BitFlags v0.1.7\u001b[39m\n",
      " \u001b[90m [d360d2e6] \u001b[39m\u001b[92m+ ChainRulesCore v1.16.0\u001b[39m\n",
      " \u001b[90m [9e997f8a] \u001b[39m\u001b[92m+ ChangesOfVariables v0.1.7\u001b[39m\n",
      " \u001b[90m [944b1d66] \u001b[39m\u001b[92m+ CodecZlib v0.7.1\u001b[39m\n",
      " \u001b[90m [35d6a980] \u001b[39m\u001b[92m+ ColorSchemes v3.21.0\u001b[39m\n",
      " \u001b[90m [3da002f7] \u001b[39m\u001b[92m+ ColorTypes v0.11.4\u001b[39m\n",
      " \u001b[90m [c3611d14] \u001b[39m\u001b[92m+ ColorVectorSpace v0.9.10\u001b[39m\n",
      " \u001b[90m [5ae59095] \u001b[39m\u001b[92m+ Colors v0.12.10\u001b[39m\n",
      " \u001b[90m [34da2185] \u001b[39m\u001b[92m+ Compat v4.6.1\u001b[39m\n",
      " \u001b[90m [f0e56b4a] \u001b[39m\u001b[92m+ ConcurrentUtilities v2.1.1\u001b[39m\n",
      " \u001b[90m [d38c429a] \u001b[39m\u001b[92m+ Contour v0.6.2\u001b[39m\n",
      " \u001b[90m [9a962f9c] \u001b[39m\u001b[92m+ DataAPI v1.14.0\u001b[39m\n",
      " \u001b[90m [864edb3b] \u001b[39m\u001b[92m+ DataStructures v0.18.13\u001b[39m\n",
      " \u001b[90m [ffbed154] \u001b[39m\u001b[92m+ DocStringExtensions v0.9.3\u001b[39m\n",
      " \u001b[90m [c87230d0] \u001b[39m\u001b[92m+ FFMPEG v0.4.1\u001b[39m\n",
      " \u001b[90m [53c48c17] \u001b[39m\u001b[92m+ FixedPointNumbers v0.8.4\u001b[39m\n",
      " \u001b[90m [59287772] \u001b[39m\u001b[92m+ Formatting v0.4.2\u001b[39m\n",
      " \u001b[90m [28b8d3ca] \u001b[39m\u001b[92m+ GR v0.72.4\u001b[39m\n",
      " \u001b[90m [42e2da0e] \u001b[39m\u001b[92m+ Grisu v1.0.2\u001b[39m\n",
      " \u001b[90m [cd3eb016] \u001b[39m\u001b[92m+ HTTP v1.8.0\u001b[39m\n",
      " \u001b[90m [3587e190] \u001b[39m\u001b[92m+ InverseFunctions v0.1.9\u001b[39m\n",
      " \u001b[90m [92d709cd] \u001b[39m\u001b[92m+ IrrationalConstants v0.2.2\u001b[39m\n",
      " \u001b[90m [1019f520] \u001b[39m\u001b[92m+ JLFzf v0.1.5\u001b[39m\n",
      " \u001b[90m [692b3bcd] \u001b[39m\u001b[92m+ JLLWrappers v1.4.1\u001b[39m\n",
      " \u001b[90m [682c06a0] \u001b[39m\u001b[92m+ JSON v0.21.4\u001b[39m\n",
      " \u001b[90m [b964fa9f] \u001b[39m\u001b[92m+ LaTeXStrings v1.3.0\u001b[39m\n",
      " \u001b[90m [23fbe1c1] \u001b[39m\u001b[92m+ Latexify v0.16.0\u001b[39m\n",
      " \u001b[90m [2ab3a3ac] \u001b[39m\u001b[92m+ LogExpFunctions v0.3.23\u001b[39m\n",
      " \u001b[90m [e6f89c97] \u001b[39m\u001b[92m+ LoggingExtras v1.0.0\u001b[39m\n",
      " \u001b[90m [1914dd2f] \u001b[39m\u001b[92m+ MacroTools v0.5.10\u001b[39m\n",
      " \u001b[90m [739be429] \u001b[39m\u001b[92m+ MbedTLS v1.1.7\u001b[39m\n",
      " \u001b[90m [442fdcdd] \u001b[39m\u001b[92m+ Measures v0.3.2\u001b[39m\n",
      " \u001b[90m [e1d29d7a] \u001b[39m\u001b[92m+ Missings v1.1.0\u001b[39m\n",
      " \u001b[90m [77ba4419] \u001b[39m\u001b[92m+ NaNMath v1.0.2\u001b[39m\n",
      " \u001b[90m [4d8831e6] \u001b[39m\u001b[92m+ OpenSSL v1.4.1\u001b[39m\n",
      " \u001b[90m [bac558e1] \u001b[39m\u001b[92m+ OrderedCollections v1.6.0\u001b[39m\n",
      " \u001b[90m [69de0a69] \u001b[39m\u001b[92m+ Parsers v2.5.8\u001b[39m\n",
      " \u001b[90m [b98c9c47] \u001b[39m\u001b[92m+ Pipe v1.3.0\u001b[39m\n",
      " \u001b[90m [ccf2f8ad] \u001b[39m\u001b[92m+ PlotThemes v3.1.0\u001b[39m\n",
      " \u001b[90m [995b91a9] \u001b[39m\u001b[92m+ PlotUtils v1.3.5\u001b[39m\n",
      " \u001b[90m [91a5bcdd] \u001b[39m\u001b[92m+ Plots v1.38.11\u001b[39m\n",
      " \u001b[90m [aea7be01] \u001b[39m\u001b[92m+ PrecompileTools v1.1.1\u001b[39m\n",
      " \u001b[90m [21216c6a] \u001b[39m\u001b[92m+ Preferences v1.4.0\u001b[39m\n",
      " \u001b[90m [3cdcf5f2] \u001b[39m\u001b[92m+ RecipesBase v1.3.4\u001b[39m\n",
      " \u001b[90m [01d81517] \u001b[39m\u001b[92m+ RecipesPipeline v0.6.12\u001b[39m\n",
      " \u001b[90m [189a3867] \u001b[39m\u001b[92m+ Reexport v1.2.2\u001b[39m\n",
      " \u001b[90m [05181044] \u001b[39m\u001b[92m+ RelocatableFolders v1.0.0\u001b[39m\n",
      " \u001b[90m [ae029012] \u001b[39m\u001b[92m+ Requires v1.3.0\u001b[39m\n",
      " \u001b[90m [6c6a2e73] \u001b[39m\u001b[92m+ Scratch v1.2.0\u001b[39m\n",
      " \u001b[90m [992d4aef] \u001b[39m\u001b[92m+ Showoff v1.0.3\u001b[39m\n",
      " \u001b[90m [777ac1f9] \u001b[39m\u001b[92m+ SimpleBufferStream v1.1.0\u001b[39m\n",
      " \u001b[90m [66db9d55] \u001b[39m\u001b[92m+ SnoopPrecompile v1.0.3\u001b[39m\n",
      " \u001b[90m [a2af1166] \u001b[39m\u001b[92m+ SortingAlgorithms v1.1.0\u001b[39m\n",
      " \u001b[90m [276daf66] \u001b[39m\u001b[92m+ SpecialFunctions v2.2.0\u001b[39m\n",
      " \u001b[90m [82ae8749] \u001b[39m\u001b[92m+ StatsAPI v1.6.0\u001b[39m\n",
      "\u001b[33m⌅\u001b[39m\u001b[90m [2913bbd2] \u001b[39m\u001b[92m+ StatsBase v0.33.21\u001b[39m\n",
      " \u001b[90m [62fd8b95] \u001b[39m\u001b[92m+ TensorCore v0.1.1\u001b[39m\n",
      " \u001b[90m [3bb67fe8] \u001b[39m\u001b[92m+ TranscodingStreams v0.9.13\u001b[39m\n",
      " \u001b[90m [5c2747f8] \u001b[39m\u001b[92m+ URIs v1.4.2\u001b[39m\n",
      " \u001b[90m [1cfade01] \u001b[39m\u001b[92m+ UnicodeFun v0.4.1\u001b[39m\n",
      " \u001b[90m [41fe7b60] \u001b[39m\u001b[92m+ Unzip v0.2.0\u001b[39m\n",
      " \u001b[90m [6e34b625] \u001b[39m\u001b[92m+ Bzip2_jll v1.0.8+0\u001b[39m\n",
      " \u001b[90m [83423d85] \u001b[39m\u001b[92m+ Cairo_jll v1.16.1+1\u001b[39m\n",
      " \u001b[90m [2e619515] \u001b[39m\u001b[92m+ Expat_jll v2.4.8+0\u001b[39m\n",
      " \u001b[90m [b22a6f82] \u001b[39m\u001b[92m+ FFMPEG_jll v4.4.2+2\u001b[39m\n",
      " \u001b[90m [a3f928ae] \u001b[39m\u001b[92m+ Fontconfig_jll v2.13.93+0\u001b[39m\n",
      " \u001b[90m [d7e528f0] \u001b[39m\u001b[92m+ FreeType2_jll v2.10.4+0\u001b[39m\n",
      " \u001b[90m [559328eb] \u001b[39m\u001b[92m+ FriBidi_jll v1.0.10+0\u001b[39m\n",
      " \u001b[90m [0656b61e] \u001b[39m\u001b[92m+ GLFW_jll v3.3.8+0\u001b[39m\n",
      " \u001b[90m [d2c73de3] \u001b[39m\u001b[92m+ GR_jll v0.72.4+0\u001b[39m\n",
      " \u001b[90m [78b55507] \u001b[39m\u001b[92m+ Gettext_jll v0.21.0+0\u001b[39m\n",
      " \u001b[90m [7746bdde] \u001b[39m\u001b[92m+ Glib_jll v2.74.0+2\u001b[39m\n",
      " \u001b[90m [3b182d85] \u001b[39m\u001b[92m+ Graphite2_jll v1.3.14+0\u001b[39m\n",
      " \u001b[90m [2e76f6c2] \u001b[39m\u001b[92m+ HarfBuzz_jll v2.8.1+1\u001b[39m\n",
      " \u001b[90m [aacddb02] \u001b[39m\u001b[92m+ JpegTurbo_jll v2.1.91+0\u001b[39m\n",
      " \u001b[90m [c1c5ebd0] \u001b[39m\u001b[92m+ LAME_jll v3.100.1+0\u001b[39m\n",
      " \u001b[90m [88015f11] \u001b[39m\u001b[92m+ LERC_jll v3.0.0+1\u001b[39m\n",
      " \u001b[90m [dd4b983a] \u001b[39m\u001b[92m+ LZO_jll v2.10.1+0\u001b[39m\n",
      "\u001b[33m⌅\u001b[39m\u001b[90m [e9f186c6] \u001b[39m\u001b[92m+ Libffi_jll v3.2.2+1\u001b[39m\n",
      " \u001b[90m [d4300ac3] \u001b[39m\u001b[92m+ Libgcrypt_jll v1.8.7+0\u001b[39m\n",
      " \u001b[90m [7e76a0d4] \u001b[39m\u001b[92m+ Libglvnd_jll v1.6.0+0\u001b[39m\n",
      " \u001b[90m [7add5ba3] \u001b[39m\u001b[92m+ Libgpg_error_jll v1.42.0+0\u001b[39m\n",
      " \u001b[90m [94ce4f54] \u001b[39m\u001b[92m+ Libiconv_jll v1.16.1+2\u001b[39m\n",
      " \u001b[90m [4b2f31a3] \u001b[39m\u001b[92m+ Libmount_jll v2.35.0+0\u001b[39m\n",
      " \u001b[90m [89763e89] \u001b[39m\u001b[92m+ Libtiff_jll v4.4.0+0\u001b[39m\n",
      " \u001b[90m [38a345b3] \u001b[39m\u001b[92m+ Libuuid_jll v2.36.0+0\u001b[39m\n",
      " \u001b[90m [e7412a2a] \u001b[39m\u001b[92m+ Ogg_jll v1.3.5+1\u001b[39m\n",
      "\u001b[33m⌅\u001b[39m\u001b[90m [458c3c95] \u001b[39m\u001b[92m+ OpenSSL_jll v1.1.20+0\u001b[39m\n",
      " \u001b[90m [efe28fd5] \u001b[39m\u001b[92m+ OpenSpecFun_jll v0.5.5+0\u001b[39m\n",
      " \u001b[90m [91d4177d] \u001b[39m\u001b[92m+ Opus_jll v1.3.2+0\u001b[39m\n",
      " \u001b[90m [30392449] \u001b[39m\u001b[92m+ Pixman_jll v0.40.1+0\u001b[39m\n",
      " \u001b[90m [ea2cea3b] \u001b[39m\u001b[92m+ Qt5Base_jll v5.15.3+2\u001b[39m\n",
      " \u001b[90m [a2964d1f] \u001b[39m\u001b[92m+ Wayland_jll v1.21.0+0\u001b[39m\n",
      " \u001b[90m [2381bf8a] \u001b[39m\u001b[92m+ Wayland_protocols_jll v1.25.0+0\u001b[39m\n",
      " \u001b[90m [02c8fc9c] \u001b[39m\u001b[92m+ XML2_jll v2.10.3+0\u001b[39m\n",
      " \u001b[90m [aed1982a] \u001b[39m\u001b[92m+ XSLT_jll v1.1.34+0\u001b[39m\n",
      " \u001b[90m [4f6342f7] \u001b[39m\u001b[92m+ Xorg_libX11_jll v1.6.9+4\u001b[39m\n",
      " \u001b[90m [0c0b7dd1] \u001b[39m\u001b[92m+ Xorg_libXau_jll v1.0.9+4\u001b[39m\n",
      " \u001b[90m [935fb764] \u001b[39m\u001b[92m+ Xorg_libXcursor_jll v1.2.0+4\u001b[39m\n",
      " \u001b[90m [a3789734] \u001b[39m\u001b[92m+ Xorg_libXdmcp_jll v1.1.3+4\u001b[39m\n",
      " \u001b[90m [1082639a] \u001b[39m\u001b[92m+ Xorg_libXext_jll v1.3.4+4\u001b[39m\n",
      " \u001b[90m [d091e8ba] \u001b[39m\u001b[92m+ Xorg_libXfixes_jll v5.0.3+4\u001b[39m\n",
      " \u001b[90m [a51aa0fd] \u001b[39m\u001b[92m+ Xorg_libXi_jll v1.7.10+4\u001b[39m\n",
      " \u001b[90m [d1454406] \u001b[39m\u001b[92m+ Xorg_libXinerama_jll v1.1.4+4\u001b[39m\n",
      " \u001b[90m [ec84b674] \u001b[39m\u001b[92m+ Xorg_libXrandr_jll v1.5.2+4\u001b[39m\n",
      " \u001b[90m [ea2f1a96] \u001b[39m\u001b[92m+ Xorg_libXrender_jll v0.9.10+4\u001b[39m\n",
      " \u001b[90m [14d82f49] \u001b[39m\u001b[92m+ Xorg_libpthread_stubs_jll v0.1.0+3\u001b[39m\n",
      " \u001b[90m [c7cfdc94] \u001b[39m\u001b[92m+ Xorg_libxcb_jll v1.13.0+3\u001b[39m\n",
      " \u001b[90m [cc61e674] \u001b[39m\u001b[92m+ Xorg_libxkbfile_jll v1.1.0+4\u001b[39m\n",
      " \u001b[90m [12413925] \u001b[39m\u001b[92m+ Xorg_xcb_util_image_jll v0.4.0+1\u001b[39m\n",
      " \u001b[90m [2def613f] \u001b[39m\u001b[92m+ Xorg_xcb_util_jll v0.4.0+1\u001b[39m\n",
      " \u001b[90m [975044d2] \u001b[39m\u001b[92m+ Xorg_xcb_util_keysyms_jll v0.4.0+1\u001b[39m\n",
      " \u001b[90m [0d47668e] \u001b[39m\u001b[92m+ Xorg_xcb_util_renderutil_jll v0.3.9+1\u001b[39m\n",
      " \u001b[90m [c22f9ab0] \u001b[39m\u001b[92m+ Xorg_xcb_util_wm_jll v0.4.1+1\u001b[39m\n",
      " \u001b[90m [35661453] \u001b[39m\u001b[92m+ Xorg_xkbcomp_jll v1.4.2+4\u001b[39m\n",
      " \u001b[90m [33bec58e] \u001b[39m\u001b[92m+ Xorg_xkeyboard_config_jll v2.27.0+4\u001b[39m\n",
      " \u001b[90m [c5fb5394] \u001b[39m\u001b[92m+ Xorg_xtrans_jll v1.4.0+3\u001b[39m\n",
      " \u001b[90m [3161d3a3] \u001b[39m\u001b[92m+ Zstd_jll v1.5.5+0\u001b[39m\n",
      "\u001b[33m⌅\u001b[39m\u001b[90m [214eeab7] \u001b[39m\u001b[92m+ fzf_jll v0.29.0+0\u001b[39m\n",
      " \u001b[90m [a4ae2306] \u001b[39m\u001b[92m+ libaom_jll v3.4.0+0\u001b[39m\n",
      " \u001b[90m [0ac62f75] \u001b[39m\u001b[92m+ libass_jll v0.15.1+0\u001b[39m\n",
      " \u001b[90m [f638f0a6] \u001b[39m\u001b[92m+ libfdk_aac_jll v2.0.2+0\u001b[39m\n",
      " \u001b[90m [b53b4c65] \u001b[39m\u001b[92m+ libpng_jll v1.6.38+0\u001b[39m\n",
      " \u001b[90m [f27f6e37] \u001b[39m\u001b[92m+ libvorbis_jll v1.3.7+1\u001b[39m\n",
      " \u001b[90m [1270edf5] \u001b[39m\u001b[92m+ x264_jll v2021.5.5+0\u001b[39m\n",
      " \u001b[90m [dfaa095f] \u001b[39m\u001b[92m+ x265_jll v3.5.0+0\u001b[39m\n",
      " \u001b[90m [d8fb68d0] \u001b[39m\u001b[92m+ xkbcommon_jll v1.4.1+0\u001b[39m\n",
      " \u001b[90m [0dad84c5] \u001b[39m\u001b[92m+ ArgTools v1.1.1\u001b[39m\n",
      " \u001b[90m [56f22d72] \u001b[39m\u001b[92m+ Artifacts\u001b[39m\n",
      " \u001b[90m [2a0f44e3] \u001b[39m\u001b[92m+ Base64\u001b[39m\n",
      " \u001b[90m [ade2ca70] \u001b[39m\u001b[92m+ Dates\u001b[39m\n",
      " \u001b[90m [8bb1440f] \u001b[39m\u001b[92m+ DelimitedFiles\u001b[39m\n",
      " \u001b[90m [f43a241f] \u001b[39m\u001b[92m+ Downloads v1.6.0\u001b[39m\n",
      " \u001b[90m [7b1f6079] \u001b[39m\u001b[92m+ FileWatching\u001b[39m\n",
      " \u001b[90m [b77e0a4c] \u001b[39m\u001b[92m+ InteractiveUtils\u001b[39m\n",
      " \u001b[90m [b27032c2] \u001b[39m\u001b[92m+ LibCURL v0.6.3\u001b[39m\n",
      " \u001b[90m [76f85450] \u001b[39m\u001b[92m+ LibGit2\u001b[39m\n",
      " \u001b[90m [8f399da3] \u001b[39m\u001b[92m+ Libdl\u001b[39m\n",
      " \u001b[90m [37e2e46d] \u001b[39m\u001b[92m+ LinearAlgebra\u001b[39m\n",
      " \u001b[90m [56ddb016] \u001b[39m\u001b[92m+ Logging\u001b[39m\n",
      " \u001b[90m [d6f4376e] \u001b[39m\u001b[92m+ Markdown\u001b[39m\n",
      " \u001b[90m [a63ad114] \u001b[39m\u001b[92m+ Mmap\u001b[39m\n",
      " \u001b[90m [ca575930] \u001b[39m\u001b[92m+ NetworkOptions v1.2.0\u001b[39m\n",
      " \u001b[90m [44cfe95a] \u001b[39m\u001b[92m+ Pkg v1.8.0\u001b[39m\n",
      " \u001b[90m [de0858da] \u001b[39m\u001b[92m+ Printf\u001b[39m\n",
      " \u001b[90m [3fa0cd96] \u001b[39m\u001b[92m+ REPL\u001b[39m\n",
      " \u001b[90m [9a3f8284] \u001b[39m\u001b[92m+ Random\u001b[39m\n",
      " \u001b[90m [ea8e919c] \u001b[39m\u001b[92m+ SHA v0.7.0\u001b[39m\n",
      " \u001b[90m [9e88b42a] \u001b[39m\u001b[92m+ Serialization\u001b[39m\n",
      " \u001b[90m [6462fe0b] \u001b[39m\u001b[92m+ Sockets\u001b[39m\n",
      " \u001b[90m [2f01184e] \u001b[39m\u001b[92m+ SparseArrays\u001b[39m\n",
      " \u001b[90m [10745b16] \u001b[39m\u001b[92m+ Statistics\u001b[39m\n",
      " \u001b[90m [fa267f1f] \u001b[39m\u001b[92m+ TOML v1.0.0\u001b[39m\n",
      " \u001b[90m [a4e569a6] \u001b[39m\u001b[92m+ Tar v1.10.1\u001b[39m\n",
      " \u001b[90m [8dfed614] \u001b[39m\u001b[92m+ Test\u001b[39m\n",
      " \u001b[90m [cf7118a7] \u001b[39m\u001b[92m+ UUIDs\u001b[39m\n",
      " \u001b[90m [4ec0a83e] \u001b[39m\u001b[92m+ Unicode\u001b[39m\n",
      " \u001b[90m [e66e0078] \u001b[39m\u001b[92m+ CompilerSupportLibraries_jll v1.0.1+0\u001b[39m\n",
      " \u001b[90m [deac9b47] \u001b[39m\u001b[92m+ LibCURL_jll v7.84.0+0\u001b[39m\n",
      " \u001b[90m [29816b5a] \u001b[39m\u001b[92m+ LibSSH2_jll v1.10.2+0\u001b[39m\n",
      " \u001b[90m [c8ffd9c3] \u001b[39m\u001b[92m+ MbedTLS_jll v2.28.0+0\u001b[39m\n",
      " \u001b[90m [14a3606d] \u001b[39m\u001b[92m+ MozillaCACerts_jll v2022.2.1\u001b[39m\n",
      " \u001b[90m [4536629a] \u001b[39m\u001b[92m+ OpenBLAS_jll v0.3.20+0\u001b[39m\n",
      " \u001b[90m [05823500] \u001b[39m\u001b[92m+ OpenLibm_jll v0.8.1+0\u001b[39m\n",
      " \u001b[90m [efcefdf7] \u001b[39m\u001b[92m+ PCRE2_jll v10.40.0+0\u001b[39m\n",
      " \u001b[90m [83775a58] \u001b[39m\u001b[92m+ Zlib_jll v1.2.12+3\u001b[39m\n",
      " \u001b[90m [8e850b90] \u001b[39m\u001b[92m+ libblastrampoline_jll v5.1.1+0\u001b[39m\n",
      " \u001b[90m [8e850ede] \u001b[39m\u001b[92m+ nghttp2_jll v1.48.0+0\u001b[39m\n",
      " \u001b[90m [3f19e933] \u001b[39m\u001b[92m+ p7zip_jll v17.4.0+0\u001b[39m\n",
      "\u001b[36m\u001b[1m        Info\u001b[22m\u001b[39m Packages marked with \u001b[33m⌅\u001b[39m have new versions available but compatibility constraints restrict them from upgrading. To see why use `status --outdated -m`\n"
     ]
    }
   ],
   "source": [
    "using Pkg\n",
    "Pkg.activate(\".\")\n",
    "Pkg.add(\"Plots\")"
   ]
  },
  {
   "cell_type": "markdown",
   "id": "f93d14d5-3c3c-4c8f-b824-381143061b82",
   "metadata": {
    "slideshow": {
     "slide_type": "slide"
    }
   },
   "source": [
    "## Setting up a project (i.e., your homework)"
   ]
  },
  {
   "attachments": {
    "images/juliapkgstructure.png": {
     "image/png": "[encoded data removed]"
    }
   },
   "cell_type": "markdown",
   "id": "c69ed540-6c1f-481e-b172-866fba4d9df9",
   "metadata": {},
   "source": [
    "-   Julia package structure: ![Julia package\n",
    "    structure](attachment:images/juliapkgstructure.png)\n",
    "-   generate with `] generate MyPackage`\n",
    "-   add files in `src` and `include` them in `MyPackage.jl`"
   ]
  },
  {
   "cell_type": "markdown",
   "id": "8bc239a1-5bc8-4c18-ad5f-2ee0d64c0740",
   "metadata": {
    "slideshow": {
     "slide_type": "slide"
    }
   },
   "source": [
    "## Using a project"
   ]
  },
  {
   "cell_type": "markdown",
   "id": "8199face-cd16-44ca-9f64-7401c88af42f",
   "metadata": {},
   "source": [
    "-   tell Julia to use current folder as project folder: `] activate .`"
   ]
  },
  {
   "cell_type": "code",
   "execution_count": 2,
   "id": "25a70343-d045-4b72-aa2d-236d1624ba34",
   "metadata": {},
   "outputs": [
    {
     "name": "stderr",
     "output_type": "stream",
     "text": [
      "\u001b[32m\u001b[1m  Activating\u001b[22m\u001b[39m project at `Z:\\Studium\\Master_SE\\Semester_01\\Computer_Vision_1\\Assignment_01`\n"
     ]
    }
   ],
   "source": [
    "using Pkg\n",
    "Pkg.activate(\".\")"
   ]
  },
  {
   "cell_type": "markdown",
   "id": "34017c06-ed2a-4672-b5b8-2bcadee0ef70",
   "metadata": {},
   "source": [
    "-   tell Julia to install all dependencies: `] instantiate`"
   ]
  },
  {
   "cell_type": "code",
   "execution_count": 4,
   "id": "742c4107-fb85-446e-8652-52ddb828d318",
   "metadata": {},
   "outputs": [],
   "source": [
    "using Pkg\n",
    "Pkg.instantiate()"
   ]
  },
  {
   "cell_type": "markdown",
   "id": "2eef1326-cf4f-4522-9dae-1feae0afb0ed",
   "metadata": {
    "slideshow": {
     "slide_type": "subslide"
    }
   },
   "source": [
    "### Task 2: Dependencies for homework"
   ]
  },
  {
   "cell_type": "markdown",
   "id": "3fc752d8-9b35-4748-a32f-0af23fbd515a",
   "metadata": {},
   "source": [
    "Create a folder “homework” on your computer. Activate is using the\n",
    "package manager and install the following packages:\n",
    "\n",
    "-   `Images`\n",
    "-   `Plots`\n",
    "-   `FFTW`\n",
    "-   `IJulia`"
   ]
  },
  {
   "cell_type": "markdown",
   "id": "b1d01fe9-5e45-4eaa-9a8e-d337d2223ff9",
   "metadata": {
    "slideshow": {
     "slide_type": "slide"
    }
   },
   "source": [
    "# Language Elements and Syntax"
   ]
  },
  {
   "cell_type": "markdown",
   "id": "a862fde7-3d8e-43e9-90c5-8c2aca6022ef",
   "metadata": {
    "slideshow": {
     "slide_type": "subslide"
    }
   },
   "source": [
    "## The basics"
   ]
  },
  {
   "cell_type": "markdown",
   "id": "ecf07556-59a0-409a-913d-1ac8207ee90d",
   "metadata": {},
   "source": [
    "-   comments begin with `#`\n",
    "-   assignment with `=`, variables have dynamic types"
   ]
  },
  {
   "cell_type": "code",
   "execution_count": 5,
   "id": "b453f0a6-fa5e-4b7d-a334-640d0a88af63",
   "metadata": {},
   "outputs": [
    {
     "data": {
      "text/plain": [
       "\"Hi\""
      ]
     },
     "execution_count": 5,
     "metadata": {},
     "output_type": "execute_result"
    }
   ],
   "source": [
    "a = 3       # Integer\n",
    "a = 3.0     # Float64\n",
    "a = 'c'     # Char\n",
    "a = \"Hi\"    # String"
   ]
  },
  {
   "cell_type": "markdown",
   "id": "90e051ae-9df9-4a9d-a8b1-bf3f35f1befd",
   "metadata": {
    "slideshow": {
     "slide_type": "subslide"
    }
   },
   "source": [
    "## Operators"
   ]
  },
  {
   "cell_type": "markdown",
   "id": "cfa33708-1c6a-42db-afaf-92d16cb1ec10",
   "metadata": {},
   "source": [
    "### Math:"
   ]
  },
  {
   "cell_type": "code",
   "execution_count": 6,
   "id": "4557f125-d541-4d72-a5e6-7f6dfda308a3",
   "metadata": {},
   "outputs": [
    {
     "name": "stdout",
     "output_type": "stream",
     "text": [
      "8\n",
      "-2\n",
      "15\n",
      "0.6\n",
      "0\n",
      "243\n"
     ]
    }
   ],
   "source": [
    "println(3 + 5) # addition\n",
    "println(3 - 5) # subtraction\n",
    "println(3 * 5) # multiplication\n",
    "println(3 / 5) # division\n",
    "println(3 ÷ 5) # integer division\n",
    "println(3 ^ 5) # potentiation"
   ]
  },
  {
   "cell_type": "markdown",
   "id": "494a37f9-80f0-450e-a780-d2ad428e9a00",
   "metadata": {
    "slideshow": {
     "slide_type": "subslide"
    }
   },
   "source": [
    "### Logic:"
   ]
  },
  {
   "cell_type": "code",
   "execution_count": 7,
   "id": "3e200020-227c-4fb1-8792-a14cb1ff951a",
   "metadata": {},
   "outputs": [
    {
     "name": "stdout",
     "output_type": "stream",
     "text": [
      "false\n",
      "true\n"
     ]
    }
   ],
   "source": [
    "println(true && false)\n",
    "println(true || false)"
   ]
  },
  {
   "cell_type": "markdown",
   "id": "f17201b9-a46b-4497-8e0f-e2c2fbf33866",
   "metadata": {},
   "source": [
    "### Comparisons:"
   ]
  },
  {
   "cell_type": "code",
   "execution_count": 8,
   "id": "d832f652-09cf-4b36-80e0-c5f5eba8be10",
   "metadata": {},
   "outputs": [
    {
     "name": "stdout",
     "output_type": "stream",
     "text": [
      "true\n",
      "true\n",
      "false\n"
     ]
    }
   ],
   "source": [
    "println(5 > 4)\n",
    "println(6 ≥ 6)\n",
    "println(5 ≠ 5)"
   ]
  },
  {
   "cell_type": "markdown",
   "id": "15a8a9e3-0465-496d-b24e-3019228515f6",
   "metadata": {
    "slideshow": {
     "slide_type": "subslide"
    }
   },
   "source": [
    "## Control structures"
   ]
  },
  {
   "cell_type": "markdown",
   "id": "83b8760c-78c5-4b78-90d4-49786af69b9d",
   "metadata": {},
   "source": [
    "-   Usual keywords for control structures: `if`, `for`, `while`\n",
    "-   End of a construct is delimited by keyword `end`"
   ]
  },
  {
   "cell_type": "code",
   "execution_count": 9,
   "id": "8622a0f5-68e6-4db5-a295-f0730f7785db",
   "metadata": {},
   "outputs": [
    {
     "name": "stdout",
     "output_type": "stream",
     "text": [
      "Too long\n"
     ]
    }
   ],
   "source": [
    "a = \"Hi there\"\n",
    "if length(a) > 7\n",
    "    println(\"Too long\")\n",
    "elseif length(a) < 7\n",
    "    println(\"Too short\")\n",
    "else\n",
    "    println(\"Just right\")\n",
    "end"
   ]
  },
  {
   "cell_type": "code",
   "execution_count": 10,
   "id": "df9b1d4f-1b6f-4615-a6c7-56f8d54fbc3f",
   "metadata": {},
   "outputs": [
    {
     "name": "stdout",
     "output_type": "stream",
     "text": [
      "i is 1\n",
      "i is 2\n",
      "i is 3\n",
      "i is 4\n",
      "i is 5\n",
      "i is 6\n",
      "i is 7\n",
      "i is 8\n",
      "i is 9\n",
      "i is 10\n"
     ]
    }
   ],
   "source": [
    "for i in 1:10\n",
    "    println(\"i is $i\")\n",
    "end"
   ]
  },
  {
   "cell_type": "markdown",
   "id": "3b081d90-62a0-43ac-89e1-8d41f511735b",
   "metadata": {
    "slideshow": {
     "slide_type": "subslide"
    }
   },
   "source": [
    "## Vectors and Arrays"
   ]
  },
  {
   "cell_type": "markdown",
   "id": "16deecff-9ac8-41cd-9932-7a9ee60f7e50",
   "metadata": {},
   "source": [
    "-   Array: **collection** of elements of the same type\n",
    "-   For example:"
   ]
  },
  {
   "cell_type": "code",
   "execution_count": 11,
   "id": "3f5dfe1f-a23b-4691-aff7-d93233af79f9",
   "metadata": {},
   "outputs": [
    {
     "data": {
      "text/plain": [
       "2×2 Matrix{Float64}:\n",
       " 1.0  2.0\n",
       " 3.0  4.0"
      ]
     },
     "execution_count": 11,
     "metadata": {},
     "output_type": "execute_result"
    }
   ],
   "source": [
    "row = [1 2 3 4 5]       # row vector (size 1x5, type Int)\n",
    "col = [1.; 2.; 3.; 4.]  # column vector (size 4, type Float64)\n",
    "mat = [1. 2.; 3. 4.]    # matrix (size 2x2, type Float64)"
   ]
  },
  {
   "cell_type": "markdown",
   "id": "b161c932-814a-4376-8b56-ad0a77e295f6",
   "metadata": {},
   "source": [
    "-   Easy to build and manipulate:"
   ]
  },
  {
   "cell_type": "code",
   "execution_count": 12,
   "id": "1195584f-b8ce-4139-9891-133363bc097e",
   "metadata": {},
   "outputs": [
    {
     "data": {
      "text/plain": [
       "3×2 Matrix{Float64}:\n",
       " 0.0  0.0\n",
       " 0.0  0.0\n",
       " 0.0  0.0"
      ]
     },
     "execution_count": 12,
     "metadata": {},
     "output_type": "execute_result"
    }
   ],
   "source": [
    "z = zeros(3, 4)\n",
    "o = ones(4, 2)\n",
    "z * o   # matrix product"
   ]
  },
  {
   "cell_type": "code",
   "execution_count": 13,
   "id": "c9e97c46-bf15-42c4-ba89-6d7b1ab742af",
   "metadata": {},
   "outputs": [
    {
     "data": {
      "text/plain": [
       "10-element Vector{Int64}:\n",
       "  1\n",
       "  2\n",
       "  3\n",
       "  4\n",
       "  5\n",
       "  6\n",
       "  7\n",
       "  8\n",
       "  9\n",
       " 10"
      ]
     },
     "execution_count": 13,
     "metadata": {},
     "output_type": "execute_result"
    }
   ],
   "source": [
    "r = collect(1:10)"
   ]
  },
  {
   "cell_type": "markdown",
   "id": "d76814d9-66dd-4eb6-a924-d15b460c86ce",
   "metadata": {
    "slideshow": {
     "slide_type": "subslide"
    }
   },
   "source": [
    "### Element access"
   ]
  },
  {
   "cell_type": "markdown",
   "id": "be6929b8-1deb-44aa-9dea-91dd85c60219",
   "metadata": {},
   "source": [
    "-   Select elements with square brackets `[]`"
   ]
  },
  {
   "cell_type": "code",
   "execution_count": 14,
   "id": "819d051c-9c56-4574-ba7c-62c8f9a02b4b",
   "metadata": {},
   "outputs": [
    {
     "data": {
      "text/plain": [
       "1.0255232041465259"
      ]
     },
     "execution_count": 14,
     "metadata": {},
     "output_type": "execute_result"
    }
   ],
   "source": [
    "x = randn(5, 4)\n",
    "x[2, 2]"
   ]
  },
  {
   "cell_type": "markdown",
   "id": "fe8bdd60-c9bb-4951-9a70-40be0c13d4a6",
   "metadata": {},
   "source": [
    "-   Julia is **1-indexed** (unless you specify something else)\n",
    "-   Select **slices** (sub-arrays) with `:`"
   ]
  },
  {
   "cell_type": "code",
   "execution_count": 15,
   "id": "6cdf970e-9aed-47db-86b8-2d6125d89f7d",
   "metadata": {},
   "outputs": [
    {
     "data": {
      "text/plain": [
       "4-element Vector{Float64}:\n",
       " -0.8269101236485006\n",
       "  1.0255232041465259\n",
       " -0.5541732526564512\n",
       " -1.725701984509056"
      ]
     },
     "execution_count": 15,
     "metadata": {},
     "output_type": "execute_result"
    }
   ],
   "source": [
    "x[2, :]"
   ]
  },
  {
   "cell_type": "markdown",
   "id": "06932dee-6d88-48e1-9cb6-5cd0917d816e",
   "metadata": {},
   "source": [
    "-   Assignment to slices works as expected:"
   ]
  },
  {
   "cell_type": "code",
   "execution_count": 16,
   "id": "fb428c7e-1a99-461f-93e7-43dce2dc5658",
   "metadata": {},
   "outputs": [
    {
     "data": {
      "text/plain": [
       "5×4 Matrix{Float64}:\n",
       " -1.47271    0.37912   -0.109436   1.79671\n",
       "  0.0        0.0        0.0        0.0\n",
       "  1.22183    0.827139   0.543833  -1.73401\n",
       " -0.26527    1.37047   -1.20393    0.127086\n",
       " -0.320162  -0.659025   0.848452   0.611418"
      ]
     },
     "execution_count": 16,
     "metadata": {},
     "output_type": "execute_result"
    }
   ],
   "source": [
    "x[2, :] .= 0.\n",
    "x"
   ]
  },
  {
   "cell_type": "markdown",
   "id": "4cfecdcf-95bb-4492-931c-e936518b9457",
   "metadata": {
    "slideshow": {
     "slide_type": "subslide"
    }
   },
   "source": [
    "### Vectorized operations"
   ]
  },
  {
   "cell_type": "markdown",
   "id": "a5318d5f-c42a-48b8-a826-13caa578c80a",
   "metadata": {},
   "source": [
    "-   Any function or operator can be **broadcast** (applied element-wise)\n",
    "    using `.` operator"
   ]
  },
  {
   "cell_type": "code",
   "execution_count": 17,
   "id": "807b78fd-8de8-4917-8641-721cd746342d",
   "metadata": {},
   "outputs": [
    {
     "name": "stdout",
     "output_type": "stream",
     "text": [
      "[0.5450162918185172 1.2329512843605643 0.6950979592494116; 0.7620226014215487 0.03875283090412751 3.9056837154886894]\n",
      "[0.6729961775185249 0.8958691009417377 0.7404403931285011; 0.7662208166592767 -0.19558838508467208 -0.918911605856336]\n"
     ]
    }
   ],
   "source": [
    "x = randn(2, 3)\n",
    "println(x .* x)\n",
    "println(sin.(x))"
   ]
  },
  {
   "cell_type": "markdown",
   "id": "bd56b16b-743c-4936-b761-a4cc9d8b69fb",
   "metadata": {},
   "source": [
    "-   Can also be written as a for loop (loops are fast in Julia)\n",
    "-   To vectorize a whole line, use `@.` macro"
   ]
  },
  {
   "cell_type": "code",
   "execution_count": 18,
   "id": "65f26d13-4065-492e-b47b-fcdff559b4a6",
   "metadata": {},
   "outputs": [
    {
     "data": {
      "text/plain": [
       "2×3 Matrix{Float64}:\n",
       " -2.04325  -2.91583  -2.9374\n",
       " -2.64297  -2.38676  -2.86472"
      ]
     },
     "execution_count": 18,
     "metadata": {},
     "output_type": "execute_result"
    }
   ],
   "source": [
    "x = randn(2, 3)\n",
    "y = rand(2, 3)\n",
    "z = zeros(2, 3)\n",
    "@. z = x + y - π"
   ]
  },
  {
   "cell_type": "markdown",
   "id": "4b722f21-c5ab-4f92-9827-69bbbc4e54d9",
   "metadata": {
    "slideshow": {
     "slide_type": "subslide"
    }
   },
   "source": [
    "## Visualization and Plotting"
   ]
  },
  {
   "cell_type": "markdown",
   "id": "4e952cce-d94e-44e4-9e9e-8b873bee1887",
   "metadata": {},
   "source": [
    "-   Plotting meta-package: `Plots.jl`\n",
    "-   Several compatible backends:\n",
    "    -   `GR` (standard)\n",
    "    -   `PyPlot` (same as Python)\n",
    "    -   `Plotly` (browser compatible)\n",
    "    -   `UnicodePlots` (terminal compatible)\n",
    "    -   `PGFPlotsX` (LaTeX-compatible output)\n",
    "-   more on this in a separate tutorial"
   ]
  },
  {
   "cell_type": "code",
   "execution_count": 20,
   "id": "5a616a35-be12-4fda-975f-452b0a7a20a6",
   "metadata": {},
   "outputs": [
    {
     "data": {
      "image/svg+xml": [
       "<?xml version=\"1.0\" encoding=\"utf-8\"?>\n",
       "<svg xmlns=\"http://www.w3.org/2000/svg\" xmlns:xlink=\"http://www.w3.org/1999/xlink\" width=\"600\" height=\"400\" viewBox=\"0 0 2400 1600\">\n",
       "<defs>\n",
       "  <clipPath id=\"clip540\">\n",
       "    <rect x=\"0\" y=\"0\" width=\"2400\" height=\"1600\"/>\n",
       "  </clipPath>\n",
       "</defs>\n",
       "<path clip-path=\"url(#clip540)\" d=\"M0 1600 L2400 1600 L2400 0 L0 0  Z\" fill=\"#ffffff\" fill-rule=\"evenodd\" fill-opacity=\"1\"/>\n",
       "<defs>\n",
       "  <clipPath id=\"clip541\">\n",
       "    <rect x=\"480\" y=\"0\" width=\"1681\" height=\"1600\"/>\n",
       "  </clipPath>\n",
       "</defs>\n",
       "<path clip-path=\"url(#clip540)\" d=\"M193.936 1486.45 L2352.76 1486.45 L2352.76 47.2441 L193.936 47.2441  Z\" fill=\"#ffffff\" fill-rule=\"evenodd\" fill-opacity=\"1\"/>\n",
       "<defs>\n",
       "  <clipPath id=\"clip542\">\n",
       "    <rect x=\"193\" y=\"47\" width=\"2160\" height=\"1440\"/>\n",
       "  </clipPath>\n",
       "</defs>\n",
       "<polyline clip-path=\"url(#clip542)\" style=\"stroke:#000000; stroke-linecap:round; stroke-linejoin:round; stroke-width:2; stroke-opacity:0.1; fill:none\" points=\"255.035,1486.45 255.035,47.2441 \"/>\n",
       "<polyline clip-path=\"url(#clip542)\" style=\"stroke:#000000; stroke-linecap:round; stroke-linejoin:round; stroke-width:2; stroke-opacity:0.1; fill:none\" points=\"579.173,1486.45 579.173,47.2441 \"/>\n",
       "<polyline clip-path=\"url(#clip542)\" style=\"stroke:#000000; stroke-linecap:round; stroke-linejoin:round; stroke-width:2; stroke-opacity:0.1; fill:none\" points=\"903.312,1486.45 903.312,47.2441 \"/>\n",
       "<polyline clip-path=\"url(#clip542)\" style=\"stroke:#000000; stroke-linecap:round; stroke-linejoin:round; stroke-width:2; stroke-opacity:0.1; fill:none\" points=\"1227.45,1486.45 1227.45,47.2441 \"/>\n",
       "<polyline clip-path=\"url(#clip542)\" style=\"stroke:#000000; stroke-linecap:round; stroke-linejoin:round; stroke-width:2; stroke-opacity:0.1; fill:none\" points=\"1551.59,1486.45 1551.59,47.2441 \"/>\n",
       "<polyline clip-path=\"url(#clip542)\" style=\"stroke:#000000; stroke-linecap:round; stroke-linejoin:round; stroke-width:2; stroke-opacity:0.1; fill:none\" points=\"1875.73,1486.45 1875.73,47.2441 \"/>\n",
       "<polyline clip-path=\"url(#clip542)\" style=\"stroke:#000000; stroke-linecap:round; stroke-linejoin:round; stroke-width:2; stroke-opacity:0.1; fill:none\" points=\"2199.87,1486.45 2199.87,47.2441 \"/>\n",
       "<polyline clip-path=\"url(#clip540)\" style=\"stroke:#000000; stroke-linecap:round; stroke-linejoin:round; stroke-width:4; stroke-opacity:1; fill:none\" points=\"193.936,1486.45 2352.76,1486.45 \"/>\n",
       "<polyline clip-path=\"url(#clip540)\" style=\"stroke:#000000; stroke-linecap:round; stroke-linejoin:round; stroke-width:4; stroke-opacity:1; fill:none\" points=\"255.035,1486.45 255.035,1467.55 \"/>\n",
       "<polyline clip-path=\"url(#clip540)\" style=\"stroke:#000000; stroke-linecap:round; stroke-linejoin:round; stroke-width:4; stroke-opacity:1; fill:none\" points=\"579.173,1486.45 579.173,1467.55 \"/>\n",
       "<polyline clip-path=\"url(#clip540)\" style=\"stroke:#000000; stroke-linecap:round; stroke-linejoin:round; stroke-width:4; stroke-opacity:1; fill:none\" points=\"903.312,1486.45 903.312,1467.55 \"/>\n",
       "<polyline clip-path=\"url(#clip540)\" style=\"stroke:#000000; stroke-linecap:round; stroke-linejoin:round; stroke-width:4; stroke-opacity:1; fill:none\" points=\"1227.45,1486.45 1227.45,1467.55 \"/>\n",
       "<polyline clip-path=\"url(#clip540)\" style=\"stroke:#000000; stroke-linecap:round; stroke-linejoin:round; stroke-width:4; stroke-opacity:1; fill:none\" points=\"1551.59,1486.45 1551.59,1467.55 \"/>\n",
       "<polyline clip-path=\"url(#clip540)\" style=\"stroke:#000000; stroke-linecap:round; stroke-linejoin:round; stroke-width:4; stroke-opacity:1; fill:none\" points=\"1875.73,1486.45 1875.73,1467.55 \"/>\n",
       "<polyline clip-path=\"url(#clip540)\" style=\"stroke:#000000; stroke-linecap:round; stroke-linejoin:round; stroke-width:4; stroke-opacity:1; fill:none\" points=\"2199.87,1486.45 2199.87,1467.55 \"/>\n",
       "<path clip-path=\"url(#clip540)\" d=\"M255.035 1517.37 Q251.424 1517.37 249.595 1520.93 Q247.789 1524.47 247.789 1531.6 Q247.789 1538.71 249.595 1542.27 Q251.424 1545.82 255.035 1545.82 Q258.669 1545.82 260.474 1542.27 Q262.303 1538.71 262.303 1531.6 Q262.303 1524.47 260.474 1520.93 Q258.669 1517.37 255.035 1517.37 M255.035 1513.66 Q260.845 1513.66 263.9 1518.27 Q266.979 1522.85 266.979 1531.6 Q266.979 1540.33 263.9 1544.94 Q260.845 1549.52 255.035 1549.52 Q249.225 1549.52 246.146 1544.94 Q243.09 1540.33 243.09 1531.6 Q243.09 1522.85 246.146 1518.27 Q249.225 1513.66 255.035 1513.66 Z\" fill=\"#000000\" fill-rule=\"nonzero\" fill-opacity=\"1\" /><path clip-path=\"url(#clip540)\" d=\"M569.555 1544.91 L577.194 1544.91 L577.194 1518.55 L568.884 1520.21 L568.884 1515.95 L577.148 1514.29 L581.824 1514.29 L581.824 1544.91 L589.463 1544.91 L589.463 1548.85 L569.555 1548.85 L569.555 1544.91 Z\" fill=\"#000000\" fill-rule=\"nonzero\" fill-opacity=\"1\" /><path clip-path=\"url(#clip540)\" d=\"M897.965 1544.91 L914.284 1544.91 L914.284 1548.85 L892.34 1548.85 L892.34 1544.91 Q895.002 1542.16 899.585 1537.53 Q904.191 1532.88 905.372 1531.53 Q907.617 1529.01 908.497 1527.27 Q909.4 1525.51 909.4 1523.82 Q909.4 1521.07 907.455 1519.33 Q905.534 1517.6 902.432 1517.6 Q900.233 1517.6 897.779 1518.36 Q895.349 1519.13 892.571 1520.68 L892.571 1515.95 Q895.395 1514.82 897.849 1514.24 Q900.303 1513.66 902.34 1513.66 Q907.71 1513.66 910.904 1516.35 Q914.099 1519.03 914.099 1523.52 Q914.099 1525.65 913.289 1527.57 Q912.502 1529.47 910.395 1532.07 Q909.816 1532.74 906.715 1535.95 Q903.613 1539.15 897.965 1544.91 Z\" fill=\"#000000\" fill-rule=\"nonzero\" fill-opacity=\"1\" /><path clip-path=\"url(#clip540)\" d=\"M1231.7 1530.21 Q1235.05 1530.93 1236.93 1533.2 Q1238.83 1535.47 1238.83 1538.8 Q1238.83 1543.92 1235.31 1546.72 Q1231.79 1549.52 1225.31 1549.52 Q1223.13 1549.52 1220.82 1549.08 Q1218.53 1548.66 1216.07 1547.81 L1216.07 1543.29 Q1218.02 1544.43 1220.33 1545.01 Q1222.65 1545.58 1225.17 1545.58 Q1229.57 1545.58 1231.86 1543.85 Q1234.17 1542.11 1234.17 1538.8 Q1234.17 1535.75 1232.02 1534.03 Q1229.89 1532.3 1226.07 1532.3 L1222.05 1532.3 L1222.05 1528.45 L1226.26 1528.45 Q1229.71 1528.45 1231.54 1527.09 Q1233.36 1525.7 1233.36 1523.11 Q1233.36 1520.45 1231.47 1519.03 Q1229.59 1517.6 1226.07 1517.6 Q1224.15 1517.6 1221.95 1518.01 Q1219.75 1518.43 1217.11 1519.31 L1217.11 1515.14 Q1219.78 1514.4 1222.09 1514.03 Q1224.43 1513.66 1226.49 1513.66 Q1231.81 1513.66 1234.92 1516.09 Q1238.02 1518.5 1238.02 1522.62 Q1238.02 1525.49 1236.37 1527.48 Q1234.73 1529.45 1231.7 1530.21 Z\" fill=\"#000000\" fill-rule=\"nonzero\" fill-opacity=\"1\" /><path clip-path=\"url(#clip540)\" d=\"M1554.6 1518.36 L1542.79 1536.81 L1554.6 1536.81 L1554.6 1518.36 M1553.37 1514.29 L1559.25 1514.29 L1559.25 1536.81 L1564.18 1536.81 L1564.18 1540.7 L1559.25 1540.7 L1559.25 1548.85 L1554.6 1548.85 L1554.6 1540.7 L1539 1540.7 L1539 1536.19 L1553.37 1514.29 Z\" fill=\"#000000\" fill-rule=\"nonzero\" fill-opacity=\"1\" /><path clip-path=\"url(#clip540)\" d=\"M1866.01 1514.29 L1884.36 1514.29 L1884.36 1518.22 L1870.29 1518.22 L1870.29 1526.7 Q1871.31 1526.35 1872.32 1526.19 Q1873.34 1526 1874.36 1526 Q1880.15 1526 1883.53 1529.17 Q1886.91 1532.34 1886.91 1537.76 Q1886.91 1543.34 1883.44 1546.44 Q1879.96 1549.52 1873.64 1549.52 Q1871.47 1549.52 1869.2 1549.15 Q1866.95 1548.78 1864.55 1548.04 L1864.55 1543.34 Q1866.63 1544.47 1868.85 1545.03 Q1871.07 1545.58 1873.55 1545.58 Q1877.56 1545.58 1879.89 1543.48 Q1882.23 1541.37 1882.23 1537.76 Q1882.23 1534.15 1879.89 1532.04 Q1877.56 1529.94 1873.55 1529.94 Q1871.68 1529.94 1869.8 1530.35 Q1867.95 1530.77 1866.01 1531.65 L1866.01 1514.29 Z\" fill=\"#000000\" fill-rule=\"nonzero\" fill-opacity=\"1\" /><path clip-path=\"url(#clip540)\" d=\"M2200.27 1529.7 Q2197.12 1529.7 2195.27 1531.86 Q2193.44 1534.01 2193.44 1537.76 Q2193.44 1541.49 2195.27 1543.66 Q2197.12 1545.82 2200.27 1545.82 Q2203.42 1545.82 2205.25 1543.66 Q2207.1 1541.49 2207.1 1537.76 Q2207.1 1534.01 2205.25 1531.86 Q2203.42 1529.7 2200.27 1529.7 M2209.55 1515.05 L2209.55 1519.31 Q2207.79 1518.48 2205.99 1518.04 Q2204.21 1517.6 2202.45 1517.6 Q2197.82 1517.6 2195.36 1520.72 Q2192.93 1523.85 2192.59 1530.17 Q2193.95 1528.15 2196.01 1527.09 Q2198.07 1526 2200.55 1526 Q2205.76 1526 2208.77 1529.17 Q2211.8 1532.32 2211.8 1537.76 Q2211.8 1543.08 2208.65 1546.3 Q2205.5 1549.52 2200.27 1549.52 Q2194.28 1549.52 2191.1 1544.94 Q2187.93 1540.33 2187.93 1531.6 Q2187.93 1523.41 2191.82 1518.55 Q2195.71 1513.66 2202.26 1513.66 Q2204.02 1513.66 2205.8 1514.01 Q2207.61 1514.36 2209.55 1515.05 Z\" fill=\"#000000\" fill-rule=\"nonzero\" fill-opacity=\"1\" /><polyline clip-path=\"url(#clip542)\" style=\"stroke:#000000; stroke-linecap:round; stroke-linejoin:round; stroke-width:2; stroke-opacity:0.1; fill:none\" points=\"193.936,1445.8 2352.76,1445.8 \"/>\n",
       "<polyline clip-path=\"url(#clip542)\" style=\"stroke:#000000; stroke-linecap:round; stroke-linejoin:round; stroke-width:2; stroke-opacity:0.1; fill:none\" points=\"193.936,1106.34 2352.76,1106.34 \"/>\n",
       "<polyline clip-path=\"url(#clip542)\" style=\"stroke:#000000; stroke-linecap:round; stroke-linejoin:round; stroke-width:2; stroke-opacity:0.1; fill:none\" points=\"193.936,766.889 2352.76,766.889 \"/>\n",
       "<polyline clip-path=\"url(#clip542)\" style=\"stroke:#000000; stroke-linecap:round; stroke-linejoin:round; stroke-width:2; stroke-opacity:0.1; fill:none\" points=\"193.936,427.432 2352.76,427.432 \"/>\n",
       "<polyline clip-path=\"url(#clip542)\" style=\"stroke:#000000; stroke-linecap:round; stroke-linejoin:round; stroke-width:2; stroke-opacity:0.1; fill:none\" points=\"193.936,87.9763 2352.76,87.9763 \"/>\n",
       "<polyline clip-path=\"url(#clip540)\" style=\"stroke:#000000; stroke-linecap:round; stroke-linejoin:round; stroke-width:4; stroke-opacity:1; fill:none\" points=\"193.936,1486.45 193.936,47.2441 \"/>\n",
       "<polyline clip-path=\"url(#clip540)\" style=\"stroke:#000000; stroke-linecap:round; stroke-linejoin:round; stroke-width:4; stroke-opacity:1; fill:none\" points=\"193.936,1445.8 212.834,1445.8 \"/>\n",
       "<polyline clip-path=\"url(#clip540)\" style=\"stroke:#000000; stroke-linecap:round; stroke-linejoin:round; stroke-width:4; stroke-opacity:1; fill:none\" points=\"193.936,1106.34 212.834,1106.34 \"/>\n",
       "<polyline clip-path=\"url(#clip540)\" style=\"stroke:#000000; stroke-linecap:round; stroke-linejoin:round; stroke-width:4; stroke-opacity:1; fill:none\" points=\"193.936,766.889 212.834,766.889 \"/>\n",
       "<polyline clip-path=\"url(#clip540)\" style=\"stroke:#000000; stroke-linecap:round; stroke-linejoin:round; stroke-width:4; stroke-opacity:1; fill:none\" points=\"193.936,427.432 212.834,427.432 \"/>\n",
       "<polyline clip-path=\"url(#clip540)\" style=\"stroke:#000000; stroke-linecap:round; stroke-linejoin:round; stroke-width:4; stroke-opacity:1; fill:none\" points=\"193.936,87.9763 212.834,87.9763 \"/>\n",
       "<path clip-path=\"url(#clip540)\" d=\"M50.9921 1446.25 L80.6679 1446.25 L80.6679 1450.19 L50.9921 1450.19 L50.9921 1446.25 Z\" fill=\"#000000\" fill-rule=\"nonzero\" fill-opacity=\"1\" /><path clip-path=\"url(#clip540)\" d=\"M91.5706 1459.15 L99.2095 1459.15 L99.2095 1432.78 L90.8993 1434.45 L90.8993 1430.19 L99.1632 1428.52 L103.839 1428.52 L103.839 1459.15 L111.478 1459.15 L111.478 1463.08 L91.5706 1463.08 L91.5706 1459.15 Z\" fill=\"#000000\" fill-rule=\"nonzero\" fill-opacity=\"1\" /><path clip-path=\"url(#clip540)\" d=\"M120.922 1457.2 L125.807 1457.2 L125.807 1463.08 L120.922 1463.08 L120.922 1457.2 Z\" fill=\"#000000\" fill-rule=\"nonzero\" fill-opacity=\"1\" /><path clip-path=\"url(#clip540)\" d=\"M145.992 1431.6 Q142.381 1431.6 140.552 1435.16 Q138.746 1438.71 138.746 1445.84 Q138.746 1452.94 140.552 1456.51 Q142.381 1460.05 145.992 1460.05 Q149.626 1460.05 151.431 1456.51 Q153.26 1452.94 153.26 1445.84 Q153.26 1438.71 151.431 1435.16 Q149.626 1431.6 145.992 1431.6 M145.992 1427.9 Q151.802 1427.9 154.857 1432.5 Q157.936 1437.09 157.936 1445.84 Q157.936 1454.56 154.857 1459.17 Q151.802 1463.75 145.992 1463.75 Q140.181 1463.75 137.103 1459.17 Q134.047 1454.56 134.047 1445.84 Q134.047 1437.09 137.103 1432.5 Q140.181 1427.9 145.992 1427.9 Z\" fill=\"#000000\" fill-rule=\"nonzero\" fill-opacity=\"1\" /><path clip-path=\"url(#clip540)\" d=\"M51.9875 1106.8 L81.6633 1106.8 L81.6633 1110.73 L51.9875 1110.73 L51.9875 1106.8 Z\" fill=\"#000000\" fill-rule=\"nonzero\" fill-opacity=\"1\" /><path clip-path=\"url(#clip540)\" d=\"M101.756 1092.14 Q98.1447 1092.14 96.316 1095.71 Q94.5104 1099.25 94.5104 1106.38 Q94.5104 1113.49 96.316 1117.05 Q98.1447 1120.59 101.756 1120.59 Q105.39 1120.59 107.196 1117.05 Q109.024 1113.49 109.024 1106.38 Q109.024 1099.25 107.196 1095.71 Q105.39 1092.14 101.756 1092.14 M101.756 1088.44 Q107.566 1088.44 110.621 1093.05 Q113.7 1097.63 113.7 1106.38 Q113.7 1115.11 110.621 1119.71 Q107.566 1124.3 101.756 1124.3 Q95.9456 1124.3 92.8669 1119.71 Q89.8114 1115.11 89.8114 1106.38 Q89.8114 1097.63 92.8669 1093.05 Q95.9456 1088.44 101.756 1088.44 Z\" fill=\"#000000\" fill-rule=\"nonzero\" fill-opacity=\"1\" /><path clip-path=\"url(#clip540)\" d=\"M121.918 1117.75 L126.802 1117.75 L126.802 1123.62 L121.918 1123.62 L121.918 1117.75 Z\" fill=\"#000000\" fill-rule=\"nonzero\" fill-opacity=\"1\" /><path clip-path=\"url(#clip540)\" d=\"M137.033 1089.06 L155.39 1089.06 L155.39 1093 L141.316 1093 L141.316 1101.47 Q142.334 1101.13 143.353 1100.96 Q144.371 1100.78 145.39 1100.78 Q151.177 1100.78 154.556 1103.95 Q157.936 1107.12 157.936 1112.54 Q157.936 1118.12 154.464 1121.22 Q150.992 1124.3 144.672 1124.3 Q142.496 1124.3 140.228 1123.93 Q137.982 1123.56 135.575 1122.81 L135.575 1118.12 Q137.658 1119.25 139.881 1119.81 Q142.103 1120.36 144.58 1120.36 Q148.584 1120.36 150.922 1118.25 Q153.26 1116.15 153.26 1112.54 Q153.26 1108.93 150.922 1106.82 Q148.584 1104.71 144.58 1104.71 Q142.705 1104.71 140.83 1105.13 Q138.978 1105.55 137.033 1106.43 L137.033 1089.06 Z\" fill=\"#000000\" fill-rule=\"nonzero\" fill-opacity=\"1\" /><path clip-path=\"url(#clip540)\" d=\"M100.76 752.687 Q97.1493 752.687 95.3206 756.252 Q93.515 759.794 93.515 766.923 Q93.515 774.03 95.3206 777.595 Q97.1493 781.136 100.76 781.136 Q104.395 781.136 106.2 777.595 Q108.029 774.03 108.029 766.923 Q108.029 759.794 106.2 756.252 Q104.395 752.687 100.76 752.687 M100.76 748.984 Q106.571 748.984 109.626 753.59 Q112.705 758.173 112.705 766.923 Q112.705 775.65 109.626 780.257 Q106.571 784.84 100.76 784.84 Q94.9502 784.84 91.8715 780.257 Q88.816 775.65 88.816 766.923 Q88.816 758.173 91.8715 753.59 Q94.9502 748.984 100.76 748.984 Z\" fill=\"#000000\" fill-rule=\"nonzero\" fill-opacity=\"1\" /><path clip-path=\"url(#clip540)\" d=\"M120.922 778.289 L125.807 778.289 L125.807 784.169 L120.922 784.169 L120.922 778.289 Z\" fill=\"#000000\" fill-rule=\"nonzero\" fill-opacity=\"1\" /><path clip-path=\"url(#clip540)\" d=\"M145.992 752.687 Q142.381 752.687 140.552 756.252 Q138.746 759.794 138.746 766.923 Q138.746 774.03 140.552 777.595 Q142.381 781.136 145.992 781.136 Q149.626 781.136 151.431 777.595 Q153.26 774.03 153.26 766.923 Q153.26 759.794 151.431 756.252 Q149.626 752.687 145.992 752.687 M145.992 748.984 Q151.802 748.984 154.857 753.59 Q157.936 758.173 157.936 766.923 Q157.936 775.65 154.857 780.257 Q151.802 784.84 145.992 784.84 Q140.181 784.84 137.103 780.257 Q134.047 775.65 134.047 766.923 Q134.047 758.173 137.103 753.59 Q140.181 748.984 145.992 748.984 Z\" fill=\"#000000\" fill-rule=\"nonzero\" fill-opacity=\"1\" /><path clip-path=\"url(#clip540)\" d=\"M101.756 413.231 Q98.1447 413.231 96.316 416.796 Q94.5104 420.338 94.5104 427.467 Q94.5104 434.574 96.316 438.138 Q98.1447 441.68 101.756 441.68 Q105.39 441.68 107.196 438.138 Q109.024 434.574 109.024 427.467 Q109.024 420.338 107.196 416.796 Q105.39 413.231 101.756 413.231 M101.756 409.527 Q107.566 409.527 110.621 414.134 Q113.7 418.717 113.7 427.467 Q113.7 436.194 110.621 440.8 Q107.566 445.384 101.756 445.384 Q95.9456 445.384 92.8669 440.8 Q89.8114 436.194 89.8114 427.467 Q89.8114 418.717 92.8669 414.134 Q95.9456 409.527 101.756 409.527 Z\" fill=\"#000000\" fill-rule=\"nonzero\" fill-opacity=\"1\" /><path clip-path=\"url(#clip540)\" d=\"M121.918 438.833 L126.802 438.833 L126.802 444.712 L121.918 444.712 L121.918 438.833 Z\" fill=\"#000000\" fill-rule=\"nonzero\" fill-opacity=\"1\" /><path clip-path=\"url(#clip540)\" d=\"M137.033 410.152 L155.39 410.152 L155.39 414.088 L141.316 414.088 L141.316 422.56 Q142.334 422.213 143.353 422.051 Q144.371 421.865 145.39 421.865 Q151.177 421.865 154.556 425.037 Q157.936 428.208 157.936 433.625 Q157.936 439.203 154.464 442.305 Q150.992 445.384 144.672 445.384 Q142.496 445.384 140.228 445.013 Q137.982 444.643 135.575 443.902 L135.575 439.203 Q137.658 440.338 139.881 440.893 Q142.103 441.449 144.58 441.449 Q148.584 441.449 150.922 439.342 Q153.26 437.236 153.26 433.625 Q153.26 430.013 150.922 427.907 Q148.584 425.801 144.58 425.801 Q142.705 425.801 140.83 426.217 Q138.978 426.634 137.033 427.514 L137.033 410.152 Z\" fill=\"#000000\" fill-rule=\"nonzero\" fill-opacity=\"1\" /><path clip-path=\"url(#clip540)\" d=\"M91.5706 101.321 L99.2095 101.321 L99.2095 74.9555 L90.8993 76.6222 L90.8993 72.3629 L99.1632 70.6963 L103.839 70.6963 L103.839 101.321 L111.478 101.321 L111.478 105.256 L91.5706 105.256 L91.5706 101.321 Z\" fill=\"#000000\" fill-rule=\"nonzero\" fill-opacity=\"1\" /><path clip-path=\"url(#clip540)\" d=\"M120.922 99.3767 L125.807 99.3767 L125.807 105.256 L120.922 105.256 L120.922 99.3767 Z\" fill=\"#000000\" fill-rule=\"nonzero\" fill-opacity=\"1\" /><path clip-path=\"url(#clip540)\" d=\"M145.992 73.775 Q142.381 73.775 140.552 77.3398 Q138.746 80.8814 138.746 88.011 Q138.746 95.1174 140.552 98.6822 Q142.381 102.224 145.992 102.224 Q149.626 102.224 151.431 98.6822 Q153.26 95.1174 153.26 88.011 Q153.26 80.8814 151.431 77.3398 Q149.626 73.775 145.992 73.775 M145.992 70.0713 Q151.802 70.0713 154.857 74.6777 Q157.936 79.261 157.936 88.011 Q157.936 96.7378 154.857 101.344 Q151.802 105.928 145.992 105.928 Q140.181 105.928 137.103 101.344 Q134.047 96.7378 134.047 88.011 Q134.047 79.261 137.103 74.6777 Q140.181 70.0713 145.992 70.0713 Z\" fill=\"#000000\" fill-rule=\"nonzero\" fill-opacity=\"1\" /><polyline clip-path=\"url(#clip542)\" style=\"stroke:#009af9; stroke-linecap:round; stroke-linejoin:round; stroke-width:4; stroke-opacity:1; fill:none\" points=\"255.035,766.889 275.607,723.829 296.179,680.944 316.751,638.404 337.322,596.381 357.894,555.045 378.466,514.562 399.038,475.096 419.61,436.804 440.182,399.841 460.754,364.356 481.326,330.492 501.898,298.385 522.47,268.165 543.042,239.953 563.614,213.863 584.186,190 604.758,168.459 625.33,149.328 645.902,132.684 666.474,118.594 687.046,107.114 707.617,98.2905 728.189,92.1594 748.761,88.7453 769.333,88.0617 789.905,90.1116 810.477,94.8866 831.049,102.368 851.621,112.524 872.193,125.316 892.765,140.691 913.337,158.587 933.909,178.933 954.481,201.647 975.053,226.636 995.625,253.801 1016.2,283.032 1036.77,314.211 1057.34,347.213 1077.91,381.905 1098.48,418.147 1119.06,455.793 1139.63,494.692 1160.2,534.687 1180.77,575.617 1201.34,617.317 1221.92,659.62 1242.49,702.354 1263.06,745.348 1283.63,788.429 1304.2,831.423 1324.78,874.158 1345.35,916.46 1365.92,958.16 1386.49,999.09 1407.06,1039.09 1427.64,1077.98 1448.21,1115.63 1468.78,1151.87 1489.35,1186.56 1509.92,1219.57 1530.5,1250.75 1551.07,1279.98 1571.64,1307.14 1592.21,1332.13 1612.78,1354.84 1633.35,1375.19 1653.93,1393.09 1674.5,1408.46 1695.07,1421.25 1715.64,1431.41 1736.21,1438.89 1756.79,1443.67 1777.36,1445.72 1797.93,1445.03 1818.5,1441.62 1839.07,1435.49 1859.65,1426.66 1880.22,1415.18 1900.79,1401.09 1921.36,1384.45 1941.93,1365.32 1962.51,1343.78 1983.08,1319.91 2003.65,1293.82 2024.22,1265.61 2044.79,1235.39 2065.37,1203.29 2085.94,1169.42 2106.51,1133.94 2127.08,1096.97 2147.65,1058.68 2168.23,1019.21 2188.8,978.732 2209.37,937.396 2229.94,895.374 2250.51,852.834 2271.09,809.948 2291.66,766.889 \"/>\n",
       "<polyline clip-path=\"url(#clip542)\" style=\"stroke:#e26f46; stroke-linecap:round; stroke-linejoin:round; stroke-width:4; stroke-opacity:1; fill:none\" points=\"255.035,87.9763 275.607,89.3431 296.179,93.4383 316.751,100.245 337.322,109.736 357.894,121.874 378.466,136.608 399.038,153.881 419.61,173.622 440.182,195.751 460.754,220.181 481.326,246.812 501.898,275.537 522.47,306.24 543.042,338.799 563.614,373.081 584.186,408.949 604.758,446.258 625.33,484.858 645.902,524.594 666.474,565.306 687.046,606.829 707.617,648.997 728.189,691.639 748.761,734.585 769.333,777.66 789.905,820.692 810.477,863.508 831.049,905.935 851.621,947.801 872.193,988.939 892.765,1029.18 913.337,1068.37 933.909,1106.34 954.481,1142.95 975.053,1178.04 995.625,1211.48 1016.2,1243.13 1036.77,1272.86 1057.34,1300.55 1077.91,1326.09 1098.48,1349.38 1119.06,1370.33 1139.63,1388.85 1160.2,1404.86 1180.77,1418.3 1201.34,1429.12 1221.92,1437.27 1242.49,1442.73 1263.06,1445.46 1283.63,1445.46 1304.2,1442.73 1324.78,1437.27 1345.35,1429.12 1365.92,1418.3 1386.49,1404.86 1407.06,1388.85 1427.64,1370.33 1448.21,1349.38 1468.78,1326.09 1489.35,1300.55 1509.92,1272.86 1530.5,1243.13 1551.07,1211.48 1571.64,1178.04 1592.21,1142.95 1612.78,1106.34 1633.35,1068.37 1653.93,1029.18 1674.5,988.939 1695.07,947.801 1715.64,905.935 1736.21,863.508 1756.79,820.692 1777.36,777.66 1797.93,734.585 1818.5,691.639 1839.07,648.997 1859.65,606.829 1880.22,565.306 1900.79,524.594 1921.36,484.858 1941.93,446.258 1962.51,408.949 1983.08,373.081 2003.65,338.799 2024.22,306.24 2044.79,275.537 2065.37,246.812 2085.94,220.181 2106.51,195.751 2127.08,173.622 2147.65,153.881 2168.23,136.608 2188.8,121.874 2209.37,109.736 2229.94,100.245 2250.51,93.4383 2271.09,89.3431 2291.66,87.9763 \"/>\n",
       "<path clip-path=\"url(#clip540)\" d=\"M265.897 1438.47 L628.792 1438.47 L628.792 1282.95 L265.897 1282.95  Z\" fill=\"#ffffff\" fill-rule=\"evenodd\" fill-opacity=\"1\"/>\n",
       "<polyline clip-path=\"url(#clip540)\" style=\"stroke:#000000; stroke-linecap:round; stroke-linejoin:round; stroke-width:4; stroke-opacity:1; fill:none\" points=\"265.897,1438.47 628.792,1438.47 628.792,1282.95 265.897,1282.95 265.897,1438.47 \"/>\n",
       "<polyline clip-path=\"url(#clip540)\" style=\"stroke:#009af9; stroke-linecap:round; stroke-linejoin:round; stroke-width:4; stroke-opacity:1; fill:none\" points=\"289.884,1334.79 433.805,1334.79 \"/>\n",
       "<path clip-path=\"url(#clip540)\" d=\"M476.218 1326.91 L476.218 1330.94 Q474.412 1330.01 472.468 1329.55 Q470.523 1329.09 468.44 1329.09 Q465.269 1329.09 463.671 1330.06 Q462.097 1331.03 462.097 1332.98 Q462.097 1334.46 463.232 1335.32 Q464.366 1336.15 467.792 1336.91 L469.25 1337.24 Q473.787 1338.21 475.685 1339.99 Q477.606 1341.75 477.606 1344.92 Q477.606 1348.53 474.736 1350.64 Q471.889 1352.75 466.889 1352.75 Q464.806 1352.75 462.537 1352.33 Q460.292 1351.94 457.792 1351.13 L457.792 1346.73 Q460.153 1347.95 462.445 1348.58 Q464.736 1349.18 466.982 1349.18 Q469.991 1349.18 471.611 1348.16 Q473.231 1347.12 473.231 1345.25 Q473.231 1343.51 472.051 1342.58 Q470.894 1341.66 466.935 1340.8 L465.454 1340.45 Q461.495 1339.62 459.736 1337.91 Q457.977 1336.17 457.977 1333.16 Q457.977 1329.51 460.57 1327.51 Q463.162 1325.52 467.931 1325.52 Q470.292 1325.52 472.375 1325.87 Q474.458 1326.22 476.218 1326.91 Z\" fill=\"#000000\" fill-rule=\"nonzero\" fill-opacity=\"1\" /><path clip-path=\"url(#clip540)\" d=\"M484.389 1326.15 L488.648 1326.15 L488.648 1352.07 L484.389 1352.07 L484.389 1326.15 M484.389 1316.06 L488.648 1316.06 L488.648 1321.45 L484.389 1321.45 L484.389 1316.06 Z\" fill=\"#000000\" fill-rule=\"nonzero\" fill-opacity=\"1\" /><path clip-path=\"url(#clip540)\" d=\"M519.111 1336.43 L519.111 1352.07 L514.852 1352.07 L514.852 1336.57 Q514.852 1332.88 513.416 1331.06 Q511.981 1329.23 509.111 1329.23 Q505.662 1329.23 503.671 1331.43 Q501.68 1333.63 501.68 1337.42 L501.68 1352.07 L497.398 1352.07 L497.398 1326.15 L501.68 1326.15 L501.68 1330.18 Q503.208 1327.84 505.268 1326.68 Q507.352 1325.52 510.06 1325.52 Q514.528 1325.52 516.819 1328.3 Q519.111 1331.06 519.111 1336.43 Z\" fill=\"#000000\" fill-rule=\"nonzero\" fill-opacity=\"1\" /><path clip-path=\"url(#clip540)\" d=\"M549.782 1338.05 L549.782 1340.13 L530.199 1340.13 Q530.477 1344.53 532.838 1346.84 Q535.222 1349.13 539.458 1349.13 Q541.912 1349.13 544.203 1348.53 Q546.518 1347.93 548.787 1346.73 L548.787 1350.75 Q546.495 1351.73 544.088 1352.24 Q541.68 1352.75 539.203 1352.75 Q533 1352.75 529.365 1349.13 Q525.754 1345.52 525.754 1339.37 Q525.754 1333 529.18 1329.27 Q532.629 1325.52 538.463 1325.52 Q543.694 1325.52 546.726 1328.9 Q549.782 1332.26 549.782 1338.05 M545.523 1336.8 Q545.476 1333.3 543.555 1331.22 Q541.657 1329.13 538.509 1329.13 Q534.944 1329.13 532.791 1331.15 Q530.662 1333.16 530.338 1336.82 L545.523 1336.8 Z\" fill=\"#000000\" fill-rule=\"nonzero\" fill-opacity=\"1\" /><polyline clip-path=\"url(#clip540)\" style=\"stroke:#e26f46; stroke-linecap:round; stroke-linejoin:round; stroke-width:4; stroke-opacity:1; fill:none\" points=\"289.884,1386.63 433.805,1386.63 \"/>\n",
       "<path clip-path=\"url(#clip540)\" d=\"M478.301 1378.98 L478.301 1382.97 Q476.495 1381.97 474.667 1381.48 Q472.861 1380.97 471.009 1380.97 Q466.866 1380.97 464.574 1383.61 Q462.282 1386.23 462.282 1390.97 Q462.282 1395.72 464.574 1398.36 Q466.866 1400.97 471.009 1400.97 Q472.861 1400.97 474.667 1400.49 Q476.495 1399.98 478.301 1398.98 L478.301 1402.92 Q476.519 1403.75 474.597 1404.17 Q472.699 1404.59 470.546 1404.59 Q464.69 1404.59 461.241 1400.91 Q457.792 1397.22 457.792 1390.97 Q457.792 1384.63 461.264 1381 Q464.759 1377.36 470.824 1377.36 Q472.792 1377.36 474.667 1377.78 Q476.542 1378.17 478.301 1378.98 Z\" fill=\"#000000\" fill-rule=\"nonzero\" fill-opacity=\"1\" /><path clip-path=\"url(#clip540)\" d=\"M495.755 1380.97 Q492.329 1380.97 490.338 1383.66 Q488.347 1386.32 488.347 1390.97 Q488.347 1395.63 490.315 1398.31 Q492.305 1400.97 495.755 1400.97 Q499.157 1400.97 501.148 1398.29 Q503.139 1395.6 503.139 1390.97 Q503.139 1386.37 501.148 1383.68 Q499.157 1380.97 495.755 1380.97 M495.755 1377.36 Q501.31 1377.36 504.481 1380.97 Q507.653 1384.59 507.653 1390.97 Q507.653 1397.34 504.481 1400.97 Q501.31 1404.59 495.755 1404.59 Q490.176 1404.59 487.005 1400.97 Q483.856 1397.34 483.856 1390.97 Q483.856 1384.59 487.005 1380.97 Q490.176 1377.36 495.755 1377.36 Z\" fill=\"#000000\" fill-rule=\"nonzero\" fill-opacity=\"1\" /><path clip-path=\"url(#clip540)\" d=\"M531.24 1378.75 L531.24 1382.78 Q529.435 1381.85 527.49 1381.39 Q525.546 1380.93 523.463 1380.93 Q520.291 1380.93 518.694 1381.9 Q517.12 1382.87 517.12 1384.82 Q517.12 1386.3 518.254 1387.16 Q519.389 1387.99 522.815 1388.75 L524.273 1389.08 Q528.81 1390.05 530.708 1391.83 Q532.629 1393.59 532.629 1396.76 Q532.629 1400.37 529.759 1402.48 Q526.912 1404.59 521.912 1404.59 Q519.828 1404.59 517.56 1404.17 Q515.315 1403.78 512.815 1402.97 L512.815 1398.57 Q515.176 1399.79 517.467 1400.42 Q519.759 1401.02 522.004 1401.02 Q525.014 1401.02 526.634 1400 Q528.254 1398.96 528.254 1397.09 Q528.254 1395.35 527.074 1394.42 Q525.916 1393.5 521.958 1392.64 L520.477 1392.29 Q516.518 1391.46 514.759 1389.75 Q513 1388.01 513 1385 Q513 1381.35 515.592 1379.35 Q518.185 1377.36 522.953 1377.36 Q525.315 1377.36 527.398 1377.71 Q529.481 1378.06 531.24 1378.75 Z\" fill=\"#000000\" fill-rule=\"nonzero\" fill-opacity=\"1\" /><path clip-path=\"url(#clip540)\" d=\"M539.412 1377.99 L543.671 1377.99 L543.671 1403.91 L539.412 1403.91 L539.412 1377.99 M539.412 1367.9 L543.671 1367.9 L543.671 1373.29 L539.412 1373.29 L539.412 1367.9 Z\" fill=\"#000000\" fill-rule=\"nonzero\" fill-opacity=\"1\" /><path clip-path=\"url(#clip540)\" d=\"M574.134 1388.27 L574.134 1403.91 L569.874 1403.91 L569.874 1388.41 Q569.874 1384.72 568.439 1382.9 Q567.004 1381.07 564.134 1381.07 Q560.685 1381.07 558.694 1383.27 Q556.703 1385.47 556.703 1389.26 L556.703 1403.91 L552.421 1403.91 L552.421 1377.99 L556.703 1377.99 L556.703 1382.02 Q558.231 1379.68 560.291 1378.52 Q562.375 1377.36 565.083 1377.36 Q569.55 1377.36 571.842 1380.14 Q574.134 1382.9 574.134 1388.27 Z\" fill=\"#000000\" fill-rule=\"nonzero\" fill-opacity=\"1\" /><path clip-path=\"url(#clip540)\" d=\"M604.805 1389.89 L604.805 1391.97 L585.222 1391.97 Q585.499 1396.37 587.861 1398.68 Q590.245 1400.97 594.481 1400.97 Q596.935 1400.97 599.226 1400.37 Q601.541 1399.77 603.81 1398.57 L603.81 1402.59 Q601.518 1403.57 599.11 1404.08 Q596.703 1404.59 594.226 1404.59 Q588.023 1404.59 584.388 1400.97 Q580.777 1397.36 580.777 1391.21 Q580.777 1384.84 584.203 1381.11 Q587.652 1377.36 593.485 1377.36 Q598.717 1377.36 601.749 1380.74 Q604.805 1384.1 604.805 1389.89 M600.546 1388.64 Q600.499 1385.14 598.578 1383.06 Q596.68 1380.97 593.532 1380.97 Q589.967 1380.97 587.814 1382.99 Q585.685 1385 585.361 1388.66 L600.546 1388.64 Z\" fill=\"#000000\" fill-rule=\"nonzero\" fill-opacity=\"1\" /></svg>\n"
      ]
     },
     "execution_count": 20,
     "metadata": {},
     "output_type": "execute_result"
    }
   ],
   "source": [
    "using Plots\n",
    "x = LinRange(0, 2π, 100)\n",
    "y = sin.(x)\n",
    "plot(x, y, label=\"sine\")\n",
    "plot!(x, cos, label=\"cosine\")"
   ]
  },
  {
   "cell_type": "markdown",
   "id": "22f8fe0a-4ff5-4bc1-ad0e-78ac7975b789",
   "metadata": {
    "slideshow": {
     "slide_type": "subslide"
    }
   },
   "source": [
    "## Functions"
   ]
  },
  {
   "cell_type": "markdown",
   "id": "e9b9a8a9-ed20-4b21-929d-e8bd2b03e976",
   "metadata": {},
   "source": [
    "-   Grouping code in functions is central to Julia\n",
    "-   Functions are **compiled**, making them fast\n",
    "-   Defined with `function` keyword:"
   ]
  },
  {
   "cell_type": "code",
   "execution_count": 23,
   "id": "0e0f23d9-eb71-44bb-9f39-63df6ed2b58e",
   "metadata": {},
   "outputs": [
    {
     "data": {
      "text/plain": [
       "rms (generic function with 1 method)"
      ]
     },
     "execution_count": 23,
     "metadata": {},
     "output_type": "execute_result"
    }
   ],
   "source": [
    "using Statistics: mean\n",
    "\n",
    "function rms(x)\n",
    "    y = mean(x.^2)\n",
    "    return(sqrt(y))\n",
    "end"
   ]
  },
  {
   "cell_type": "code",
   "execution_count": 22,
   "id": "4dfd06f6-9566-47aa-9e8d-bc723869c282",
   "metadata": {},
   "outputs": [
    {
     "data": {
      "text/plain": [
       "0.793219076735725"
      ]
     },
     "execution_count": 22,
     "metadata": {},
     "output_type": "execute_result"
    }
   ],
   "source": [
    "rms(randn(5))"
   ]
  },
  {
   "cell_type": "markdown",
   "id": "a5293efb-e105-4961-b523-8fe870a0e6ab",
   "metadata": {},
   "source": [
    "-   Shorter syntax for one-line functions:"
   ]
  },
  {
   "cell_type": "code",
   "execution_count": 24,
   "id": "4b456a1f-7afc-46d5-94d0-326ba484a26d",
   "metadata": {},
   "outputs": [
    {
     "data": {
      "text/plain": [
       "rms2 (generic function with 1 method)"
      ]
     },
     "execution_count": 24,
     "metadata": {},
     "output_type": "execute_result"
    }
   ],
   "source": [
    "rms2(x) = sqrt(mean(x.^2))"
   ]
  },
  {
   "cell_type": "markdown",
   "id": "3ce9f257-a12c-4dcb-863c-a1a126e20377",
   "metadata": {},
   "source": [
    "-   Anonymous (lambda) functions:"
   ]
  },
  {
   "cell_type": "code",
   "execution_count": 25,
   "id": "342cd635-f167-4be3-8a35-1a6432c4cc8a",
   "metadata": {},
   "outputs": [
    {
     "data": {
      "text/plain": [
       "#1 (generic function with 1 method)"
      ]
     },
     "execution_count": 25,
     "metadata": {},
     "output_type": "execute_result"
    }
   ],
   "source": [
    "x -> sqrt(mean(x.^2))"
   ]
  },
  {
   "cell_type": "markdown",
   "id": "fab8d774-ec8c-432e-9e60-6b83fd7bfab6",
   "metadata": {
    "slideshow": {
     "slide_type": "subslide"
    }
   },
   "source": [
    "### Multiple dispatch"
   ]
  },
  {
   "cell_type": "markdown",
   "id": "13a06699-268f-4423-8907-0b4de6277f22",
   "metadata": {},
   "source": [
    "-   Functions are **generic**\n",
    "-   Specific **method** is selected based on **types** of input\n",
    "    arguments"
   ]
  },
  {
   "cell_type": "code",
   "execution_count": 26,
   "id": "51d1b61b-bafc-4f8a-845e-54ecd8e8a5ab",
   "metadata": {},
   "outputs": [
    {
     "name": "stdout",
     "output_type": "stream",
     "text": [
      "125\n",
      "125.0\n",
      "HiHiHi\n"
     ]
    }
   ],
   "source": [
    "cube(x) = x * x * x\n",
    "println(cube(5))\n",
    "println(cube(5.0))\n",
    "println(cube(\"Hi\"))"
   ]
  },
  {
   "cell_type": "markdown",
   "id": "31c2c999-5a0c-4f04-b25b-f57f118a322f",
   "metadata": {
    "slideshow": {
     "slide_type": "subslide"
    }
   },
   "source": [
    "-   This enables methods to be compiled to **efficient machine code**"
   ]
  },
  {
   "cell_type": "code",
   "execution_count": 27,
   "id": "b8d1fbdb-35c8-491d-bf44-33e0f9269f07",
   "metadata": {},
   "outputs": [
    {
     "name": "stdout",
     "output_type": "stream",
     "text": [
      "\t\u001b[0m.text\n",
      "\t\u001b[0m.file\t\u001b[0m\"cube\"\n",
      "\t\u001b[0m.globl\t\u001b[0mjulia_cube_6007                 \u001b[90m# -- Begin function julia_cube_6007\u001b[39m\n",
      "\t\u001b[0m.p2align\t\u001b[33m4\u001b[39m\u001b[0m, \u001b[33m0x90\u001b[39m\n",
      "\t\u001b[0m.type\t\u001b[0mjulia_cube_6007\u001b[0m,\u001b[0m@function\n",
      "\u001b[91mjulia_cube_6007:\u001b[39m                        \u001b[90m# @julia_cube_6007\u001b[39m\n",
      "\u001b[90m; ┌ @ In[26]:1 within `cube`\u001b[39m\n",
      "\t\u001b[0m.cfi_startproc\n",
      "\u001b[90m# %bb.0:                                # %top\u001b[39m\n",
      "\t\u001b[96m\u001b[1mpushq\u001b[22m\u001b[39m\t\u001b[0m%rbp\n",
      "\t\u001b[0m.cfi_def_cfa_offset \u001b[33m16\u001b[39m\n",
      "\t\u001b[0m.cfi_offset \u001b[0m%rbp\u001b[0m, \u001b[33m-16\u001b[39m\n",
      "\t\u001b[96m\u001b[1mmovq\u001b[22m\u001b[39m\t\u001b[0m%rsp\u001b[0m, \u001b[0m%rbp\n",
      "\t\u001b[0m.cfi_def_cfa_register \u001b[0m%rbp\n",
      "\u001b[90m; │┌ @ operators.jl:591 within `*` @ int.jl:88\u001b[39m\n",
      "\t\u001b[96m\u001b[1mmovq\u001b[22m\u001b[39m\t\u001b[0m%rcx\u001b[0m, \u001b[0m%rax\n",
      "\t\u001b[96m\u001b[1mimulq\u001b[22m\u001b[39m\t\u001b[0m%rcx\u001b[0m, \u001b[0m%rax\n",
      "\t\u001b[96m\u001b[1mimulq\u001b[22m\u001b[39m\t\u001b[0m%rcx\u001b[0m, \u001b[0m%rax\n",
      "\u001b[90m; │└\u001b[39m\n",
      "\t\u001b[96m\u001b[1mpopq\u001b[22m\u001b[39m\t\u001b[0m%rbp\n",
      "\t\u001b[96m\u001b[1mretq\u001b[22m\u001b[39m\n",
      "\u001b[91m.Lfunc_end0:\u001b[39m\n",
      "\t\u001b[0m.size\t\u001b[0mjulia_cube_6007\u001b[0m, \u001b[0m.Lfunc_end0-julia_cube_6007\n",
      "\t\u001b[0m.cfi_endproc\n",
      "\u001b[90m; └\u001b[39m\n",
      "                                        \u001b[90m# -- End function\u001b[39m\n",
      "\t\u001b[0m.section\t\u001b[0m\".note.GNU-stack\"\u001b[0m,\u001b[0m\"\"\u001b[0m,\u001b[0m@progbits\n"
     ]
    }
   ],
   "source": [
    "@code_native cube(1)"
   ]
  },
  {
   "cell_type": "markdown",
   "id": "e2c48595-eb00-4a5e-b401-f53fb50a2759",
   "metadata": {},
   "source": [
    "-   Knowing your types is crucial"
   ]
  },
  {
   "cell_type": "code",
   "execution_count": 28,
   "id": "026d1408-3968-4732-a6d5-9959aa088c9d",
   "metadata": {},
   "outputs": [
    {
     "ename": "LoadError",
     "evalue": "DomainError with -1.0:\nsqrt will only return a complex result if called with a complex argument. Try sqrt(Complex(x)).",
     "output_type": "error",
     "traceback": [
      "DomainError with -1.0:\nsqrt will only return a complex result if called with a complex argument. Try sqrt(Complex(x)).",
      "",
      "Stacktrace:",
      " [1] throw_complex_domainerror(f::Symbol, x::Float64)",
      "   @ Base.Math .\\math.jl:33",
      " [2] sqrt(x::Float64)",
      "   @ Base.Math .\\math.jl:591",
      " [3] top-level scope",
      "   @ In[28]:1"
     ]
    }
   ],
   "source": [
    "sqrt(-1.)"
   ]
  },
  {
   "cell_type": "code",
   "execution_count": 29,
   "id": "192f825f-8cbb-4433-958d-209207f7b3f9",
   "metadata": {},
   "outputs": [
    {
     "data": {
      "text/plain": [
       "0.0 + 1.0im"
      ]
     },
     "execution_count": 29,
     "metadata": {},
     "output_type": "execute_result"
    }
   ],
   "source": [
    "sqrt(-1. + 0im)"
   ]
  },
  {
   "cell_type": "markdown",
   "id": "e6175586-5dfd-4344-800d-eff290b6da73",
   "metadata": {
    "slideshow": {
     "slide_type": "subslide"
    }
   },
   "source": [
    "## Types"
   ]
  },
  {
   "cell_type": "markdown",
   "id": "8b1aca8b-89ac-4199-a380-790f7a16cb83",
   "metadata": {},
   "source": [
    "-   Julia’s type system:\n",
    "    -   everything has a type\n",
    "    -   a value has to be of a concrete type (a `struct`)\n",
    "    -   concrete types can have abstract parent types\n",
    "-   Inspect type of an object with `typeof`:"
   ]
  },
  {
   "cell_type": "code",
   "execution_count": 30,
   "id": "41f9ac79-c2c2-4cd7-a589-dc1eda2bd3df",
   "metadata": {},
   "outputs": [
    {
     "name": "stdout",
     "output_type": "stream",
     "text": [
      "Float64\n",
      "String\n"
     ]
    }
   ],
   "source": [
    "println(typeof(1.0))\n",
    "println(typeof(\"Hi\"))"
   ]
  },
  {
   "cell_type": "markdown",
   "id": "2eee9f72-5e68-4a86-abf3-7a3b9fbc8fb8",
   "metadata": {},
   "source": [
    "-   Explore type hierarchy with `supertype`:"
   ]
  },
  {
   "cell_type": "code",
   "execution_count": 31,
   "id": "20f02148-062e-4044-983e-9d9e687c0233",
   "metadata": {},
   "outputs": [
    {
     "data": {
      "text/plain": [
       "AbstractFloat"
      ]
     },
     "execution_count": 31,
     "metadata": {},
     "output_type": "execute_result"
    }
   ],
   "source": [
    "supertype(typeof(1.0))"
   ]
  },
  {
   "cell_type": "markdown",
   "id": "11cfb8ff-699a-4b9d-8233-b57ccf69c366",
   "metadata": {
    "slideshow": {
     "slide_type": "subslide"
    }
   },
   "source": [
    "### Make your own types"
   ]
  },
  {
   "cell_type": "markdown",
   "id": "6fa0c774-915f-409e-be68-977d4f33deae",
   "metadata": {},
   "source": [
    "-   Abstract types:"
   ]
  },
  {
   "cell_type": "code",
   "execution_count": 32,
   "id": "f25f5834-53a1-4876-8739-a446f4bb34e1",
   "metadata": {},
   "outputs": [],
   "source": [
    "abstract type MyType end;"
   ]
  },
  {
   "cell_type": "markdown",
   "id": "990d17e8-34d8-423d-957e-f0e0d2e6531d",
   "metadata": {},
   "source": [
    "-   Subtype relation expressed with `<:`\n",
    "-   Type of something can be annotated with `::`\n",
    "-   Concrete types with `struct` or `mutable struct`"
   ]
  },
  {
   "cell_type": "code",
   "execution_count": 33,
   "id": "22b41cd9-83b2-4dfa-aecb-173438197c22",
   "metadata": {},
   "outputs": [],
   "source": [
    "struct Point <: MyType # Point is suptype of MyType\n",
    "    x::Int # a Point has two fields, each of type Int\n",
    "    y::Int\n",
    "end"
   ]
  },
  {
   "cell_type": "code",
   "execution_count": 34,
   "id": "47019265-c316-439a-b927-cd7f098ee39c",
   "metadata": {
    "slideshow": {
     "slide_type": "fragment"
    }
   },
   "outputs": [
    {
     "ename": "LoadError",
     "evalue": "UndefVarError: Point3 not defined",
     "output_type": "error",
     "traceback": [
      "UndefVarError: Point3 not defined",
      "",
      "Stacktrace:",
      " [1] top-level scope",
      "   @ In[34]:1"
     ]
    }
   ],
   "source": [
    "p = Point3(1, 2)\n",
    "println(p.x)\n",
    "p.x = 3  # only works for mutable struct "
   ]
  },
  {
   "cell_type": "markdown",
   "id": "ba2365bd-931f-4196-b588-be52f7e117ef",
   "metadata": {
    "slideshow": {
     "slide_type": "subslide"
    }
   },
   "source": [
    "### Task 3: A new function"
   ]
  },
  {
   "cell_type": "markdown",
   "id": "897bbd70-561b-47ca-8861-e7c3d37ba45c",
   "metadata": {},
   "source": [
    "Define a function `×` that computes the outer product of two vectors `a`\n",
    "and `b`."
   ]
  },
  {
   "cell_type": "markdown",
   "id": "1f054333-b3ee-4aed-a3b8-d1b386ae5798",
   "metadata": {
    "slideshow": {
     "slide_type": "subslide"
    }
   },
   "source": [
    "## Useful packages"
   ]
  },
  {
   "cell_type": "markdown",
   "id": "4f773058-cc6b-43ff-951a-7487f919cd38",
   "metadata": {},
   "source": [
    "-   Base and standard library ([see\n",
    "    docs.julialang.org](https://docs.julialang.org/en/v1/))\n",
    "-   [`Revise.jl`](https://github.com/timholy/Revise.jl) for reloading\n",
    "    code while its running\n",
    "-   [`Plots.jl`](https://docs.juliaplots.org/latest/) for visualization\n",
    "-   [`Images.jl`](https://juliaimages.org/latest/) for image processing\n",
    "-   [`DifferentialEquations.jl`](https://docs.juliadiffeq.org/latest/)\n",
    "    for differential equations\n",
    "-   [`GPUArrays.jl`](https://juliagpu.github.io/GPUArrays.jl/latest/)\n",
    "    and related packages for graphics acceleration"
   ]
  },
  {
   "cell_type": "markdown",
   "id": "7d9ce924-ba2b-40fa-bb74-e282a22ef72a",
   "metadata": {
    "slideshow": {
     "slide_type": "slide"
    }
   },
   "source": [
    "## Where to get help"
   ]
  },
  {
   "cell_type": "markdown",
   "id": "6d7b5b15-da1b-493f-a314-c266c10ab22e",
   "metadata": {},
   "source": [
    "-   Julia [documentation](https://docs.julialang.org/en/v1/) and\n",
    "    [resources](https://julialang.org/learning/) at\n",
    "    [julialang.org](julialang.org)\n",
    "-   Julia [cheat sheet](https://juliadocs.github.io/Julia-Cheat-Sheet/)\n",
    "-   StackOverflow tag\n",
    "    [`julia`](https://stackoverflow.com/questions/tagged/julia)\n",
    "-   Community [channels](https://julialang.org/community/) on several\n",
    "    media"
   ]
  }
 ],
 "metadata": {
  "kernelspec": {
   "display_name": "Julia 1.8.5",
   "language": "julia",
   "name": "julia-1.8"
  },
  "language_info": {
   "file_extension": ".jl",
   "mimetype": "application/julia",
   "name": "julia",
   "version": "1.8.5"
  },
  "rise": {
   "auto_select": "code",
   "scroll": true,
   "theme": "uulm"
  }
 },
 "nbformat": 4,
 "nbformat_minor": 5
}
